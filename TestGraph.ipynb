{
 "cells": [
  {
   "cell_type": "markdown",
   "metadata": {
    "collapsed": true
   },
   "source": [
    "# Testing View Graph\n",
    "\n",
    "## Creating View Graph"
   ]
  },
  {
   "cell_type": "code",
   "execution_count": 1,
   "metadata": {},
   "outputs": [],
   "source": [
    "# Parameters\n",
    "from Parameters import Parameters\n",
    "\n",
    "# Utitlies for mathematical calculation, isovist and visualization\n",
    "from Isovist import Isovist\n",
    "from Plotter import Plotter\n",
    "from Utility import Utility\n",
    "\n",
    "# Container -> Environment -> View Graph\n",
    "from Container import Container\n",
    "from Environment import IndoorEnvironment\n",
    "from ViewGraph import ViewGraph"
   ]
  },
  {
   "cell_type": "code",
   "execution_count": 2,
   "metadata": {},
   "outputs": [
    {
     "name": "stdout",
     "output_type": "stream",
     "text": [
      "--------------------------------------\n",
      "Real-world environment is active\n",
      "\n",
      "Static Variables: \n",
      "\tepsilon: 0.01\n",
      "\tprecision: 2\n",
      "\talpha: 40\n",
      "\tfov: 160\n",
      "\tmin_area: 1000000\n",
      "\tmax_area: 1000000\n",
      "\tdoor_weight: 50\n",
      "\tturn_weight: 0.05\n",
      "--------------------------------------\n"
     ]
    }
   ],
   "source": [
    "Parameters.set_env(\"real\")  # this can be set to \"basic\" environment, \"hypo\" environment as well\n",
    "Parameters.print_info()"
   ]
  },
  {
   "cell_type": "code",
   "execution_count": 3,
   "metadata": {},
   "outputs": [
    {
     "name": "stdout",
     "output_type": "stream",
     "text": [
      "environment files -- count is valid\n",
      "reading GeoJSON files (boundary, holes, doors and decision points)\n",
      "reading GeoJSON files (boundary, holes, doors and decision points)\n",
      "reading GeoJSON files (boundary, holes, doors and decision points)\n",
      "reading GeoJSON files (boundary, holes, doors and decision points)\n",
      "reading GeoJSON files (boundary, holes, doors and decision points)\n",
      "reading GeoJSON files (boundary, holes, doors and decision points)\n",
      "reading GeoJSON files (boundary, holes, doors and decision points)\n",
      "reading GeoJSON files (boundary, holes, doors and decision points)\n",
      "reading GeoJSON files (boundary, holes, doors and decision points)\n"
     ]
    }
   ],
   "source": [
    "def read_env():\n",
    "    # Basic environment\n",
    "    if Parameters.basic:\n",
    "        address = 'envs/basic/'\n",
    "        pfiles = ['t_bound.geojson']\n",
    "        hfiles = [None]\n",
    "        dfiles = ['t_doors.geojson']\n",
    "        dpfiles = [None]\n",
    "        lfiles = ['t_landmarks.geojson']\n",
    "        # create an indoor environment\n",
    "        ie = IndoorEnvironment(address, pfiles, hfiles, dfiles, dpfiles, lfiles)\n",
    "\n",
    "    # Hypo environment\n",
    "    elif Parameters.hypo:\n",
    "        address = 'envs/hypo/'\n",
    "        pfiles = ['hypo_env.geojson']\n",
    "        hfiles = ['hypo_holes.geojson']\n",
    "        dfiles = ['hypo_doors.geojson']\n",
    "        dpfiles = ['hypo_dpoints.geojson']\n",
    "        lfiles = ['hypo_landmarks.geojson']\n",
    "        # create an indoor environment\n",
    "        ie = IndoorEnvironment(address, pfiles, hfiles, dfiles, dpfiles, lfiles)\n",
    "\n",
    "    # MC5 real world environment\n",
    "    else:\n",
    "        address = 'envs/mc-floor-5/'\n",
    "        pfiles, hfiles, dfiles, dpfiles, lfiles = IndoorEnvironment.reformat(\n",
    "            address, 'containers.geojson', 'doors.geojson', 'landmarks.geojson')\n",
    "        # create an indoor environment\n",
    "        ie = IndoorEnvironment('', pfiles, hfiles, dfiles, dpfiles, lfiles)\n",
    "    return ie\n",
    "\n",
    "ie = read_env()"
   ]
  },
  {
   "cell_type": "code",
   "execution_count": 4,
   "metadata": {},
   "outputs": [
    {
     "name": "stdout",
     "output_type": "stream",
     "text": [
      "\n",
      "*******************************************\n",
      "Analyzing: Emergency Stairs\n",
      "Container environment is valid: True\n",
      "region initial : 1\n",
      "regions : 1 -- 1\n",
      "calculating the visibility signatures...\n",
      "calculating adjacency matrix for regions\n",
      "finding regions that contains doors/gateways and decision points\n",
      "decompose views\n",
      "len: 12\n",
      "constructing view graph for regions\n",
      "calculating all spatial relationships visible in each view\n",
      "Adding actions to views (nodes)\n",
      "Adding actions to view relations (edges)\n",
      "\n",
      "*******************************************\n",
      "Analyzing: Women Toilet\n",
      "Container environment is valid: True\n",
      "region initial : 3\n",
      "regions : 4 -- 3\n",
      "calculating the visibility signatures...\n",
      "calculating adjacency matrix for regions\n",
      "finding regions that contains doors/gateways and decision points\n",
      "decompose views\n",
      "len: 49\n",
      "constructing view graph for regions\n",
      "calculating all spatial relationships visible in each view\n",
      "Adding actions to views (nodes)\n",
      "Adding actions to view relations (edges)\n",
      "\n",
      "*******************************************\n",
      "Analyzing: Disabled Toilet\n",
      "Container environment is valid: True\n",
      "region initial : 1\n",
      "regions : 1 -- 1\n",
      "calculating the visibility signatures...\n",
      "calculating adjacency matrix for regions\n",
      "finding regions that contains doors/gateways and decision points\n",
      "decompose views\n",
      "len: 2\n",
      "constructing view graph for regions\n",
      "calculating all spatial relationships visible in each view\n",
      "Adding actions to views (nodes)\n",
      "Adding actions to view relations (edges)\n",
      "\n",
      "*******************************************\n",
      "Analyzing: Men Toilet\n",
      "Container environment is valid: True\n",
      "region initial : 1\n",
      "regions : 1 -- 1\n",
      "calculating the visibility signatures...\n",
      "calculating adjacency matrix for regions\n",
      "finding regions that contains doors/gateways and decision points\n",
      "decompose views\n",
      "len: 2\n",
      "constructing view graph for regions\n",
      "calculating all spatial relationships visible in each view\n",
      "Adding actions to views (nodes)\n",
      "Adding actions to view relations (edges)\n",
      "\n",
      "*******************************************\n",
      "Analyzing: Corridor\n",
      "Container environment is valid: True\n",
      "region initial : 21\n",
      "regions : 10 -- 21\n",
      "calculating the visibility signatures...\n",
      "calculating adjacency matrix for regions\n",
      "finding regions that contains doors/gateways and decision points\n",
      "decompose views\n",
      "len: 219\n",
      "constructing view graph for regions\n",
      "calculating all spatial relationships visible in each view\n",
      "Adding actions to views (nodes)\n",
      "Adding actions to view relations (edges)\n",
      "\n",
      "*******************************************\n",
      "Analyzing: Active Hub\n",
      "Container environment is valid: True\n",
      "region initial : 43\n",
      "regions : 12 -- 43\n",
      "calculating the visibility signatures...\n",
      "calculating adjacency matrix for regions\n",
      "finding regions that contains doors/gateways and decision points\n",
      "decompose views\n",
      "len: 278\n",
      "constructing view graph for regions\n",
      "calculating all spatial relationships visible in each view\n",
      "Adding actions to views (nodes)\n",
      "Adding actions to view relations (edges)\n",
      "\n",
      "*******************************************\n",
      "Analyzing: Stairs to Lower Floors\n",
      "Container environment is valid: True\n",
      "region initial : 1\n",
      "regions : 1 -- 1\n",
      "calculating the visibility signatures...\n",
      "calculating adjacency matrix for regions\n",
      "finding regions that contains doors/gateways and decision points\n",
      "decompose views\n",
      "len: 2\n",
      "constructing view graph for regions\n",
      "calculating all spatial relationships visible in each view\n",
      "Adding actions to views (nodes)\n",
      "Adding actions to view relations (edges)\n",
      "\n",
      "*******************************************\n",
      "Analyzing: Ngi-a Djerring Gat-ith\n",
      "Container environment is valid: True\n",
      "region initial : 1\n",
      "regions : 1 -- 1\n",
      "calculating the visibility signatures...\n",
      "calculating adjacency matrix for regions\n",
      "finding regions that contains doors/gateways and decision points\n",
      "decompose views\n",
      "len: 72\n",
      "constructing view graph for regions\n",
      "calculating all spatial relationships visible in each view\n",
      "Adding actions to views (nodes)\n",
      "Adding actions to view relations (edges)\n",
      "\n",
      "*******************************************\n",
      "Analyzing: UX Lab\n",
      "Container environment is valid: True\n",
      "region initial : 16\n",
      "regions : 12 -- 16\n",
      "calculating the visibility signatures...\n",
      "calculating adjacency matrix for regions\n",
      "finding regions that contains doors/gateways and decision points\n",
      "decompose views\n",
      "len: 171\n",
      "constructing view graph for regions\n",
      "calculating all spatial relationships visible in each view\n",
      "Adding actions to views (nodes)\n",
      "Adding actions to view relations (edges)\n"
     ]
    }
   ],
   "source": [
    "# create view graph\n",
    "vgs, isovist_objects = ie.construct_view_graph()"
   ]
  },
  {
   "cell_type": "markdown",
   "metadata": {},
   "source": [
    "## Testing View Graph \n",
    "\n",
    "### Connectivity\n",
    "Is the resulted view graph connected? If not, what are the components and why there is connectivity issue?"
   ]
  },
  {
   "cell_type": "code",
   "execution_count": 5,
   "metadata": {},
   "outputs": [
    {
     "name": "stdout",
     "output_type": "stream",
     "text": [
      "id: 0 -- Emergency Stairs is connected? True\n",
      "id: 1 -- Women Toilet is connected? True\n",
      "id: 2 -- Disabled Toilet is connected? True\n",
      "id: 3 -- Men Toilet is connected? True\n",
      "id: 4 -- Corridor is connected? True\n",
      "id: 5 -- Active Hub is connected? True\n",
      "id: 6 -- Stairs to Lower Floors is connected? True\n",
      "id: 7 -- Ngi-a Djerring Gat-ith is connected? True\n",
      "id: 8 -- UX Lab is connected? True\n"
     ]
    }
   ],
   "source": [
    "import networkx as nx\n",
    "\n",
    "for idx, vg in enumerate(vgs):\n",
    "    print('id: {2} -- {0} is connected? {1}'.format(vg.name, nx.is_strongly_connected(vg.rviewgraph), idx))\n",
    "    \n",
    "# all view graphs are connected!"
   ]
  },
  {
   "cell_type": "markdown",
   "metadata": {},
   "source": [
    "Checking The connection between the view graphs -> into the large graph representation."
   ]
  },
  {
   "cell_type": "code",
   "execution_count": 6,
   "metadata": {},
   "outputs": [
    {
     "name": "stdout",
     "output_type": "stream",
     "text": [
      "enter: Corridor\n",
      "enter: Active Hub\n"
     ]
    },
    {
     "data": {
      "image/png": "[encoded data removed]",
      "text/plain": [
       "<Figure size 432x288 with 1 Axes>"
      ]
     },
     "metadata": {
      "needs_background": "light"
     },
     "output_type": "display_data"
    },
    {
     "data": {
      "text/plain": [
       "<Figure size 432x288 with 0 Axes>"
      ]
     },
     "metadata": {},
     "output_type": "display_data"
    }
   ],
   "source": [
    "# todo: set parameters to Parameters class\n",
    "start_container = 'Women Toilet'\n",
    "start_region = 3\n",
    "end_container = 'Active Hub'\n",
    "end_region = 3\n",
    "vp, pv = ie.shortest_path(start_container, start_region, end_container, end_region)\n",
    "\n",
    "# plot shortest path\n",
    "plotter = Plotter()\n",
    "for isovist_object in ie.isovist_objects:\n",
    "    plotter.add_isovist(isovist_object)\n",
    "plotter.add_views(pv)\n",
    "plotter.show(False)\n",
    "plotter.close()"
   ]
  },
  {
   "cell_type": "code",
   "execution_count": 7,
   "metadata": {},
   "outputs": [
    {
     "data": {
      "text/plain": [
       "['Women Toilet-V108',\n",
       " 'Women Toilet-V118',\n",
       " 'Women Toilet-V119',\n",
       " 'Women Toilet-V83',\n",
       " 'Women Toilet-V84',\n",
       " 'Women Toilet-V85',\n",
       " 'Corridor-V956',\n",
       " 'Corridor-V957',\n",
       " 'Corridor-V958',\n",
       " 'Corridor-V298',\n",
       " 'Corridor-V299',\n",
       " 'Corridor-V300',\n",
       " 'Corridor-V301',\n",
       " 'Corridor-V302',\n",
       " 'Corridor-V303',\n",
       " 'Corridor-V304',\n",
       " 'Corridor-V305',\n",
       " 'Active Hub-V734',\n",
       " 'Active Hub-V735',\n",
       " 'Active Hub-V48',\n",
       " 'Active Hub-V49',\n",
       " 'Active Hub-V50',\n",
       " 'Active Hub-V51',\n",
       " 'Active Hub-V52',\n",
       " 'Active Hub-V53',\n",
       " 'Active Hub-V480']"
      ]
     },
     "execution_count": 7,
     "metadata": {},
     "output_type": "execute_result"
    }
   ],
   "source": [
    "vp"
   ]
  },
  {
   "cell_type": "code",
   "execution_count": 9,
   "metadata": {},
   "outputs": [
    {
     "data": {
      "image/png": "[encoded data removed]",
      "text/plain": [
       "<Figure size 432x288 with 1 Axes>"
      ]
     },
     "metadata": {
      "needs_background": "light"
     },
     "output_type": "display_data"
    },
    {
     "data": {
      "text/plain": [
       "<Figure size 432x288 with 0 Axes>"
      ]
     },
     "metadata": {},
     "output_type": "display_data"
    }
   ],
   "source": [
    "idxes = [4,5,6,7,15,16,17,18]\n",
    "plotter = Plotter()\n",
    "\n",
    "plotter.add_views([p for p in pv if pv.index(p) in idxes])\n",
    "plotter.show(False)\n",
    "plotter.close()"
   ]
  },
  {
   "cell_type": "code",
   "execution_count": 12,
   "metadata": {},
   "outputs": [
    {
     "data": {
      "text/plain": [
       "AtlasView({'Women Toilet-V53': {'weight': 190450.68000000014, 'label': 'move', 'action': 'follow'}, 'Women Toilet-V55': {'weight': 190450.68000000014, 'label': 'move', 'action': 'follow'}, 'Women Toilet-V58': {'weight': 190450.68000000014, 'label': 'move', 'action': 'follow'}, 'Women Toilet-V61': {'weight': 190450.68000000014, 'label': 'move', 'action': 'turn right'}, 'Women Toilet-V65': {'weight': 190450.68000000014, 'label': 'move', 'action': 'turn right'}, 'Corridor-V946': {'weight': 190500.68000000014, 'label': 'Enter the door to corridor', 'action': 'enter'}, 'Corridor-V949': {'weight': 190500.68000000014, 'label': 'Enter the door to corridor', 'action': 'enter'}, 'Corridor-V951': {'weight': 190500.68000000014, 'label': 'Enter the door to corridor', 'action': 'enter'}, 'Corridor-V953': {'weight': 190500.68000000014, 'label': 'Enter the door to corridor', 'action': 'enter'}, 'Corridor-V956': {'weight': 190500.68000000014, 'label': 'Enter the door to corridor', 'action': 'enter'}})"
      ]
     },
     "execution_count": 12,
     "metadata": {},
     "output_type": "execute_result"
    }
   ],
   "source": [
    "ie.graph['Women Toilet-V85']"
   ]
  },
  {
   "cell_type": "code",
   "execution_count": 13,
   "metadata": {},
   "outputs": [
    {
     "data": {
      "image/png": "[encoded data removed]",
      "text/plain": [
       "<Figure size 432x288 with 1 Axes>"
      ]
     },
     "metadata": {
      "needs_background": "light"
     },
     "output_type": "display_data"
    },
    {
     "data": {
      "text/plain": [
       "<Figure size 432x288 with 0 Axes>"
      ]
     },
     "metadata": {},
     "output_type": "display_data"
    }
   ],
   "source": [
    "idxes = [946, 949, 951, 953, 956]\n",
    "plotter = Plotter()\n",
    "plotter.add_views([vgs[4].rviews[idx] for idx in idxes])\n",
    "plotter.show(False)\n",
    "plotter.close()"
   ]
  },
  {
   "cell_type": "code",
   "execution_count": null,
   "metadata": {},
   "outputs": [],
   "source": []
  }
 ],
 "metadata": {
  "kernelspec": {
   "display_name": "Python 3",
   "language": "python",
   "name": "python3"
  },
  "language_info": {
   "codemirror_mode": {
    "name": "ipython",
    "version": 3
   },
   "file_extension": ".py",
   "mimetype": "text/x-python",
   "name": "python",
   "nbconvert_exporter": "python",
   "pygments_lexer": "ipython3",
   "version": "3.9.7"
  }
 },
 "nbformat": 4,
 "nbformat_minor": 1
}
