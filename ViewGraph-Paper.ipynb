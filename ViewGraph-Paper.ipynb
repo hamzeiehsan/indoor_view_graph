{
 "cells": [
  {
   "cell_type": "markdown",
   "metadata": {
    "collapsed": true,
    "pycharm": {
     "name": "#%% md\n"
    }
   },
   "source": [
    "# View Graph For Indoor Navigation\n",
    "## Abstract\n",
    "Recently, several indoor graph models have been proposed to capture topological and geometric information, and generate navigation graphs and route descriptions. Varied modelling approaches in these studies lead to incompatible graph structures that are only suitable for specific use-cases. The inconsistency in the indoor models sources from the differences in modelling approaches that are either focused on capturing the <em>survey</em> or the <em>route</em> information. For example, the topological and geometric models capture survey information of an indoor environment, while navigation graph and route description models mainly store route information. In this study, we propose a new concept, based on <em>views</em>, to capture survey and route information of an indoor environment in a unified manner. We define views as directed line of sights in which the visible spatial objects and their relationships are the same along the view. Using views, moving in the space (route information) can be captured as going from one view to another, and survey information can be attached to each view based on its visibility situation.\n",
    "\n",
    "## Hypothesis and Research Questions\n",
    "This study hypothesizes that using the concept of <em>view</em> both survey and route knowledge of an indoor environment can be captured. To test the hypothesis, we will address the following research questions:\n",
    "* How can views be extracted from geometric information (e.g., floor plans)?\n",
    "* How can view graphs be constructed to capture <em>movement</em> and <em>turns</em> from one view to another?\n",
    "* Can route descriptions and navigation graphs be generated from the view graph? By this way we can prove that route knowledge of an indoor environment can be captured by views.\n",
    "* Can spatial relationships of indoor objects be extracted from the view graph? By this way we can prove that survey knowledge of an indoor environment can be captured by views.\n",
    "\n",
    "## Definitions\n",
    "* <b>Indoor Environment</b>: An indoor environment is conceptualized as a set of <em>containers</em> (i.e., navigable spaces) that are connected through <em>gateways</em>.\n",
    "* <b>Container</b>: A container is a navigable space (e.g., a corridor or a room) that people can enter or exit using gateways. Containers may contain external landmarks that can be used for guidance purposes.\n",
    "* <b>Gateway</b>: Gateways are either on the boundary of containers (connect a container to another), or inside the containers (i.e., decision points) where people can make a decision on how to move further inside the container.\n",
    "* <b>Landmark</b>: Landmarks are external objects (people do not enter within them) that have significance for routing and guidance (e.g., signs).\n",
    "\n",
    "## Method\n",
    "1. Decomposing each container into visibility regions\n",
    "2. Generating views:\n",
    "    1. <b>inside a region</b>: If one or more gateways are inside the decomposed region a view is constructed from the region centroid to the gateway(s) and vice versa;\n",
    "    2. <b>from a region to another region</b>: For adjacent regions, views are constructed to move from one region to its neighbours;\n",
    "    3. <b>from a region to gateway(s)</b>: If a gateway is visible from a region (based on the region visibility signature, a view is constructed from the region centroid to its visible gateway(s);\n",
    "3. Calculating spatial relationships for each view including topological, directional and order relationships that visible for the agent;\n",
    "4. Decomposing region-to-gateway views to sequences of views if the visibility of gateways and landmarks changes across the views;\n",
    "5. Generating a directed dual graph for views in which the nodes are views and edges are connection between views:\n",
    "    * If the end of one view is the start another view, these views are connected through <em>movement</em>;\n",
    "    * If the start of one view is the start of another view, these views are connected through <em>turn</em>\n",
    "6. Linking the view graphs for containers based on the gateways that connects them to generate the view graph for the whole indoor environment -- i.e., views incident to gateways in one container will be linked to views that starts from the gateways in the other containers.\n",
    "\n",
    "Finally, we demonstrate how the view graph can be used to (1) generate navigation graph, (2) extract spatial relationships, and (3) generate route descriptions.\n",
    "\n",
    "## Environment\n",
    "### Test Environment (Hypothetical Floor Plan)\n",
    "![title](imgs_notebook/hypo_map.png)\n",
    "<!-- ### Real World Environment (Melbourne Connect Level 5)\n",
    "![title](imgs_notebook/mc_map.png) -->\n",
    "\n",
    "## References\n",
    "* Amoozandeh K, Winter S, Tomko M. Space decomposition based on visible objects in an indoor environment. Environment and Planning B: Urban Analytics and City Science. 2021 Aug 11:23998083211037347.\n",
    "* Becker T, Nagel C, Kolbe TH. A multilayered space-event model for navigation in indoor spaces. In3D geo-information sciences 2009 (pp. 61-77). Springer, Berlin, Heidelberg.\n",
    "* Liu L, Zlatanova S. A \"door-to-door\" path-finding approach for indoor navigation. Proceedings Gi4DM 2011: GeoInformation for Disaster Management, Antalya, Turkey, 3-8 May 2011. 2011.\n",
    "* Mortari F, Zlatanova S, Liu L, Clementini E. Improved geometric network model (IGNM): A novel approach for deriving connectivity graphs for indoor navigation. ISPRS Annals of Photogrammetry, Remote Sensing & Spatial Information Sciences. 2014 Apr 23;2(4).\n",
    "* Pang Y, Zhou L, Lin B, Lv G, Zhang C. Generation of navigation networks for corridor spaces based on indoor visibility map. International Journal of Geographical Information Science. 2020 Jan 2;34(1):177-201.\n",
    "* Werner S, Krieg-Brückner B, Mallot HA, Schweizer K, Freksa C. Spatial cognition: The role of landmark, route, and survey knowledge in human and robot navigation. In Informatik’97 Informatik als Innovationsmotor 1997 (pp. 41-50). Springer, Berlin, Heidelberg.\n",
    "* Yang L, Worboys M. Generation of navigation graphs for indoor space. International Journal of Geographical Information Science. 2015 Oct 3;29(10):1737-56.\n",
    "* Zhou Z, Weibel R, Richter KF, Huang H. HiVG: A hierarchical indoor visibility-based graph for navigation guidance in multi-storey buildings. Computers, Environment and Urban Systems. 2022 Apr 1;93:101751.\n"
   ]
  },
  {
   "cell_type": "markdown",
   "metadata": {
    "pycharm": {
     "name": "#%% md\n"
    }
   },
   "source": [
    "## Creating View Graph\n",
    "\n",
    "### Loading classes"
   ]
  },
  {
   "cell_type": "code",
   "execution_count": 1,
   "metadata": {
    "pycharm": {
     "name": "#%%\n"
    }
   },
   "outputs": [],
   "source": [
    "# Parameters\n",
    "from Parameters import Parameters\n",
    "\n",
    "# Utitlies for mathematical calculation, isovist and visualization\n",
    "from Isovist import Isovist\n",
    "from Plotter import Plotter\n",
    "from Utility import Utility\n",
    "\n",
    "# Container -> Environment -> View Graph\n",
    "from Container import Container\n",
    "from Environment import IndoorEnvironment\n",
    "from ViewGraph import ViewGraph"
   ]
  },
  {
   "cell_type": "markdown",
   "metadata": {},
   "source": [
    "### Loading environment from GeoJSON files"
   ]
  },
  {
   "cell_type": "code",
   "execution_count": 2,
   "metadata": {},
   "outputs": [
    {
     "name": "stdout",
     "output_type": "stream",
     "text": [
      "--------------------------------------\n",
      "Real-world environment is active\n",
      "\n",
      "Static Variables: \n",
      "\tepsilon: 0.01\n",
      "\tprecision: 2\n",
      "\talpha: 40\n",
      "\tfov: 160\n",
      "\tmin_area: 1000000\n",
      "\tmax_area: 1000000\n",
      "\tdoor_weight: 50\n",
      "\tturn_weight: 0.05\n",
      "--------------------------------------\n"
     ]
    }
   ],
   "source": [
    "Parameters.set_env(\"real\")  # this can be set to \"basic\" environment, \"hypo\" environment as well\n",
    "Parameters.print_info()"
   ]
  },
  {
   "cell_type": "code",
   "execution_count": 3,
   "metadata": {
    "pycharm": {
     "name": "#%%\n"
    }
   },
   "outputs": [
    {
     "name": "stdout",
     "output_type": "stream",
     "text": [
      "environment files -- count is valid\n",
      "reading GeoJSON files (boundary, holes, doors and decision points)\n",
      "reading GeoJSON files (boundary, holes, doors and decision points)\n",
      "reading GeoJSON files (boundary, holes, doors and decision points)\n",
      "reading GeoJSON files (boundary, holes, doors and decision points)\n",
      "reading GeoJSON files (boundary, holes, doors and decision points)\n",
      "reading GeoJSON files (boundary, holes, doors and decision points)\n",
      "reading GeoJSON files (boundary, holes, doors and decision points)\n",
      "reading GeoJSON files (boundary, holes, doors and decision points)\n",
      "reading GeoJSON files (boundary, holes, doors and decision points)\n"
     ]
    }
   ],
   "source": [
    "def read_env():\n",
    "    # Basic environment\n",
    "    if Parameters.basic:\n",
    "        address = 'envs/basic/'\n",
    "        pfiles = ['t_bound.geojson']\n",
    "        hfiles = [None]\n",
    "        dfiles = ['t_doors.geojson']\n",
    "        dpfiles = [None]\n",
    "        lfiles = ['t_landmarks.geojson']\n",
    "        # create an indoor environment\n",
    "        ie = IndoorEnvironment(address, pfiles, hfiles, dfiles, dpfiles, lfiles)\n",
    "\n",
    "    # Hypo environment\n",
    "    elif Parameters.hypo:\n",
    "        address = 'envs/hypo/'\n",
    "        pfiles = ['hypo_env.geojson']\n",
    "        hfiles = ['hypo_holes.geojson']\n",
    "        dfiles = ['hypo_doors.geojson']\n",
    "        dpfiles = ['hypo_dpoints.geojson']\n",
    "        lfiles = ['hypo_landmarks.geojson']\n",
    "        # create an indoor environment\n",
    "        ie = IndoorEnvironment(address, pfiles, hfiles, dfiles, dpfiles, lfiles)\n",
    "\n",
    "    # MC5 real world environment\n",
    "    else:\n",
    "        address = 'envs/mc-floor-5/'\n",
    "        pfiles, hfiles, dfiles, dpfiles, lfiles = IndoorEnvironment.reformat(\n",
    "            address, 'containers.geojson', 'doors.geojson', 'landmarks.geojson')\n",
    "        # create an indoor environment\n",
    "        ie = IndoorEnvironment('', pfiles, hfiles, dfiles, dpfiles, lfiles)\n",
    "    return ie\n",
    "\n",
    "ie = read_env()"
   ]
  },
  {
   "cell_type": "markdown",
   "metadata": {},
   "source": [
    "### Decomposing regions into isovists, and create view graph\n",
    "Here, the following tasks are performed:\n",
    "   * calculate isovists\n",
    "   * decompose containers to regions\n",
    "   * calculate visiblity signature for each region\n",
    "   * create adjacency matrix\n",
    "   * find initial views\n",
    "   * decompose views\n",
    "   * construct view graph\n",
    "   * calculate spatial relationships\n",
    "   * augment the actions in view graphs (to nodes and edges)"
   ]
  },
  {
   "cell_type": "code",
   "execution_count": 4,
   "metadata": {},
   "outputs": [
    {
     "name": "stdout",
     "output_type": "stream",
     "text": [
      "\n",
      "*******************************************\n",
      "Analyzing: Emergency Stairs\n",
      "Container environment is valid: True\n",
      "region initial : 1\n"
     ]
    },
    {
     "data": {
      "image/png": "[encoded data removed]",
      "text/plain": [
       "<Figure size 432x288 with 1 Axes>"
      ]
     },
     "metadata": {
      "needs_background": "light"
     },
     "output_type": "display_data"
    },
    {
     "name": "stdout",
     "output_type": "stream",
     "text": [
      "regions : 1 -- 1\n",
      "calculating the visibility signatures...\n",
      "calculating adjacency matrix for regions\n",
      "finding regions that contains doors/gateways and decision points\n",
      "decompose views\n",
      "len: 12\n",
      "constructing view graph for regions\n",
      "calculating all spatial relationships visible in each view\n",
      "Adding actions to views (nodes)\n",
      "Adding actions to view relations (edges)\n",
      "\n",
      "*******************************************\n",
      "Analyzing: Women Toilet\n",
      "Container environment is valid: True\n",
      "region initial : 3\n"
     ]
    },
    {
     "data": {
      "image/png": "[encoded data removed]",
      "text/plain": [
       "<Figure size 432x288 with 1 Axes>"
      ]
     },
     "metadata": {
      "needs_background": "light"
     },
     "output_type": "display_data"
    },
    {
     "name": "stdout",
     "output_type": "stream",
     "text": [
      "regions : 4 -- 3\n",
      "calculating the visibility signatures...\n",
      "calculating adjacency matrix for regions\n",
      "finding regions that contains doors/gateways and decision points\n",
      "decompose views\n",
      "len: 75\n",
      "constructing view graph for regions\n",
      "calculating all spatial relationships visible in each view\n",
      "Adding actions to views (nodes)\n",
      "Adding actions to view relations (edges)\n",
      "\n",
      "*******************************************\n",
      "Analyzing: Disabled Toilet\n",
      "Container environment is valid: True\n",
      "region initial : 1\n"
     ]
    },
    {
     "data": {
      "image/png": "[encoded data removed]",
      "text/plain": [
       "<Figure size 432x288 with 1 Axes>"
      ]
     },
     "metadata": {
      "needs_background": "light"
     },
     "output_type": "display_data"
    },
    {
     "name": "stdout",
     "output_type": "stream",
     "text": [
      "regions : 1 -- 1\n",
      "calculating the visibility signatures...\n",
      "calculating adjacency matrix for regions\n",
      "finding regions that contains doors/gateways and decision points\n",
      "decompose views\n",
      "len: 2\n",
      "constructing view graph for regions\n",
      "calculating all spatial relationships visible in each view\n",
      "Adding actions to views (nodes)\n",
      "Adding actions to view relations (edges)\n",
      "\n",
      "*******************************************\n",
      "Analyzing: Men Toilet\n",
      "Container environment is valid: True\n",
      "region initial : 1\n"
     ]
    },
    {
     "data": {
      "image/png": "[encoded data removed]",
      "text/plain": [
       "<Figure size 432x288 with 1 Axes>"
      ]
     },
     "metadata": {
      "needs_background": "light"
     },
     "output_type": "display_data"
    },
    {
     "name": "stdout",
     "output_type": "stream",
     "text": [
      "regions : 1 -- 1\n",
      "calculating the visibility signatures...\n",
      "calculating adjacency matrix for regions\n",
      "finding regions that contains doors/gateways and decision points\n",
      "decompose views\n",
      "len: 2\n",
      "constructing view graph for regions\n",
      "calculating all spatial relationships visible in each view\n",
      "Adding actions to views (nodes)\n",
      "Adding actions to view relations (edges)\n",
      "\n",
      "*******************************************\n",
      "Analyzing: Corridor\n",
      "Container environment is valid: True\n",
      "region initial : 21\n"
     ]
    },
    {
     "data": {
      "image/png": "[encoded data removed]",
      "text/plain": [
       "<Figure size 432x288 with 1 Axes>"
      ]
     },
     "metadata": {
      "needs_background": "light"
     },
     "output_type": "display_data"
    },
    {
     "name": "stdout",
     "output_type": "stream",
     "text": [
      "regions : 21 -- 21\n",
      "calculating the visibility signatures...\n",
      "calculating adjacency matrix for regions\n",
      "finding regions that contains doors/gateways and decision points\n",
      "decompose views\n",
      "len: 907\n",
      "constructing view graph for regions\n",
      "calculating all spatial relationships visible in each view\n",
      "Adding actions to views (nodes)\n",
      "Adding actions to view relations (edges)\n",
      "\n",
      "*******************************************\n",
      "Analyzing: Active Hub\n",
      "Container environment is valid: True\n",
      "region initial : 43\n"
     ]
    },
    {
     "data": {
      "image/png": "[encoded data removed]",
      "text/plain": [
       "<Figure size 432x288 with 1 Axes>"
      ]
     },
     "metadata": {
      "needs_background": "light"
     },
     "output_type": "display_data"
    },
    {
     "name": "stdout",
     "output_type": "stream",
     "text": [
      "regions : 43 -- 43\n",
      "calculating the visibility signatures...\n",
      "calculating adjacency matrix for regions\n",
      "finding regions that contains doors/gateways and decision points\n",
      "decompose views\n",
      "len: 2886\n",
      "constructing view graph for regions\n"
     ]
    },
    {
     "ename": "KeyboardInterrupt",
     "evalue": "",
     "output_type": "error",
     "traceback": [
      "\u001b[0;31m---------------------------------------------------------------------------\u001b[0m",
      "\u001b[0;31mKeyboardInterrupt\u001b[0m                         Traceback (most recent call last)",
      "Input \u001b[0;32mIn [4]\u001b[0m, in \u001b[0;36m<cell line: 2>\u001b[0;34m()\u001b[0m\n\u001b[1;32m      1\u001b[0m \u001b[38;5;66;03m# create view graph\u001b[39;00m\n\u001b[0;32m----> 2\u001b[0m vgs, isovist_objects \u001b[38;5;241m=\u001b[39m \u001b[43mie\u001b[49m\u001b[38;5;241;43m.\u001b[39;49m\u001b[43mconstruct_view_graph\u001b[49m\u001b[43m(\u001b[49m\u001b[43m)\u001b[49m\n",
      "File \u001b[0;32m~/Desktop/PostDoc/Model/viewgraph/Environment.py:119\u001b[0m, in \u001b[0;36mIndoorEnvironment.construct_view_graph\u001b[0;34m(self)\u001b[0m\n\u001b[1;32m    117\u001b[0m \u001b[38;5;28;01mfor\u001b[39;00m idx, container \u001b[38;5;129;01min\u001b[39;00m \u001b[38;5;28menumerate\u001b[39m(\u001b[38;5;28mself\u001b[39m\u001b[38;5;241m.\u001b[39mcontainers):\n\u001b[1;32m    118\u001b[0m     \u001b[38;5;28mprint\u001b[39m(\u001b[38;5;124m'\u001b[39m\u001b[38;5;130;01m\\n\u001b[39;00m\u001b[38;5;124m*******************************************\u001b[39m\u001b[38;5;130;01m\\n\u001b[39;00m\u001b[38;5;124mAnalyzing: \u001b[39m\u001b[38;5;132;01m{}\u001b[39;00m\u001b[38;5;124m'\u001b[39m\u001b[38;5;241m.\u001b[39mformat(container\u001b[38;5;241m.\u001b[39mname))\n\u001b[0;32m--> 119\u001b[0m     vg, isovist_object \u001b[38;5;241m=\u001b[39m \u001b[38;5;28;43mself\u001b[39;49m\u001b[38;5;241;43m.\u001b[39;49m\u001b[43mcviewgraph\u001b[49m\u001b[43m(\u001b[49m\u001b[43midx\u001b[49m\u001b[43m)\u001b[49m\n\u001b[1;32m    120\u001b[0m     vgs\u001b[38;5;241m.\u001b[39mappend(vg)\n\u001b[1;32m    121\u001b[0m     isovist_objects\u001b[38;5;241m.\u001b[39mappend(isovist_object)\n",
      "File \u001b[0;32m~/Desktop/PostDoc/Model/viewgraph/Environment.py:111\u001b[0m, in \u001b[0;36mIndoorEnvironment.cviewgraph\u001b[0;34m(self, cidx)\u001b[0m\n\u001b[1;32m    108\u001b[0m container_info \u001b[38;5;241m=\u001b[39m {\u001b[38;5;124m'\u001b[39m\u001b[38;5;124mname\u001b[39m\u001b[38;5;124m'\u001b[39m: container\u001b[38;5;241m.\u001b[39mname, \u001b[38;5;124m'\u001b[39m\u001b[38;5;124mdoor_info\u001b[39m\u001b[38;5;124m'\u001b[39m: container\u001b[38;5;241m.\u001b[39mdoor_names,\n\u001b[1;32m    109\u001b[0m                   \u001b[38;5;124m'\u001b[39m\u001b[38;5;124mlandmark_info\u001b[39m\u001b[38;5;124m'\u001b[39m: container\u001b[38;5;241m.\u001b[39mlandmark_names}\n\u001b[1;32m    110\u001b[0m \u001b[38;5;28mself\u001b[39m\u001b[38;5;241m.\u001b[39mcontainer_info[container\u001b[38;5;241m.\u001b[39mname_id] \u001b[38;5;241m=\u001b[39m container_info\n\u001b[0;32m--> 111\u001b[0m vg \u001b[38;5;241m=\u001b[39m \u001b[43mViewGraph\u001b[49m\u001b[43m(\u001b[49m\u001b[43misovist_object\u001b[49m\u001b[43m,\u001b[49m\u001b[43m \u001b[49m\u001b[43mcontainer_info\u001b[49m\u001b[43m)\u001b[49m\n\u001b[1;32m    112\u001b[0m \u001b[38;5;28;01mreturn\u001b[39;00m vg, isovist_object\n",
      "File \u001b[0;32m~/Desktop/PostDoc/Model/viewgraph/ViewGraph.py:21\u001b[0m, in \u001b[0;36mViewGraph.__init__\u001b[0;34m(self, isovist_object, container_info)\u001b[0m\n\u001b[1;32m     19\u001b[0m \u001b[38;5;28mself\u001b[39m\u001b[38;5;241m.\u001b[39mdoor_info \u001b[38;5;241m=\u001b[39m container_info[\u001b[38;5;124m'\u001b[39m\u001b[38;5;124mdoor_info\u001b[39m\u001b[38;5;124m'\u001b[39m]\n\u001b[1;32m     20\u001b[0m \u001b[38;5;28mself\u001b[39m\u001b[38;5;241m.\u001b[39mlandmark_info \u001b[38;5;241m=\u001b[39m container_info[\u001b[38;5;124m'\u001b[39m\u001b[38;5;124mlandmark_info\u001b[39m\u001b[38;5;124m'\u001b[39m]\n\u001b[0;32m---> 21\u001b[0m \u001b[38;5;28;43mself\u001b[39;49m\u001b[38;5;241;43m.\u001b[39;49m\u001b[43mcalculate\u001b[49m\u001b[43m(\u001b[49m\u001b[43misovist_object\u001b[49m\u001b[43m)\u001b[49m\n\u001b[1;32m     22\u001b[0m \u001b[38;5;28mself\u001b[39m\u001b[38;5;241m.\u001b[39mcontainer_info \u001b[38;5;241m=\u001b[39m container_info\n",
      "File \u001b[0;32m~/Desktop/PostDoc/Model/viewgraph/ViewGraph.py:368\u001b[0m, in \u001b[0;36mViewGraph.calculate\u001b[0;34m(self, isovist_object)\u001b[0m\n\u001b[1;32m    366\u001b[0m             v0 \u001b[38;5;241m=\u001b[39m dviews[i \u001b[38;5;241m-\u001b[39m \u001b[38;5;241m1\u001b[39m]\n\u001b[1;32m    367\u001b[0m             v1 \u001b[38;5;241m=\u001b[39m dviews[i]\n\u001b[0;32m--> 368\u001b[0m             dv0 \u001b[38;5;241m=\u001b[39m \u001b[43mUtility\u001b[49m\u001b[38;5;241;43m.\u001b[39;49m\u001b[43mcalculate_distance\u001b[49m\u001b[43m(\u001b[49m\u001b[43mv0\u001b[49m\u001b[43m[\u001b[49m\u001b[38;5;241;43m0\u001b[39;49m\u001b[43m]\u001b[49m\u001b[43m,\u001b[49m\u001b[43m \u001b[49m\u001b[43mv0\u001b[49m\u001b[43m[\u001b[49m\u001b[38;5;241;43m1\u001b[39;49m\u001b[43m]\u001b[49m\u001b[43m)\u001b[49m\n\u001b[1;32m    369\u001b[0m             \u001b[38;5;28mself\u001b[39m\u001b[38;5;241m.\u001b[39mrviewgraph\u001b[38;5;241m.\u001b[39madd_edge(\n\u001b[1;32m    370\u001b[0m                 \u001b[38;5;124m'\u001b[39m\u001b[38;5;132;01m{0}\u001b[39;00m\u001b[38;5;124m-V\u001b[39m\u001b[38;5;132;01m{1}\u001b[39;00m\u001b[38;5;124m'\u001b[39m\u001b[38;5;241m.\u001b[39mformat(\u001b[38;5;28mself\u001b[39m\u001b[38;5;241m.\u001b[39mname, dvids[i \u001b[38;5;241m-\u001b[39m \u001b[38;5;241m1\u001b[39m]),\n\u001b[1;32m    371\u001b[0m                 \u001b[38;5;124m'\u001b[39m\u001b[38;5;132;01m{0}\u001b[39;00m\u001b[38;5;124m-V\u001b[39m\u001b[38;5;132;01m{1}\u001b[39;00m\u001b[38;5;124m'\u001b[39m\u001b[38;5;241m.\u001b[39mformat(\u001b[38;5;28mself\u001b[39m\u001b[38;5;241m.\u001b[39mname, dvids[i]), weight\u001b[38;5;241m=\u001b[39mdv0, label\u001b[38;5;241m=\u001b[39m\u001b[38;5;124m'\u001b[39m\u001b[38;5;124mmove\u001b[39m\u001b[38;5;124m'\u001b[39m)\n\u001b[1;32m    373\u001b[0m \u001b[38;5;28mself\u001b[39m\u001b[38;5;241m.\u001b[39mrview_ids \u001b[38;5;241m=\u001b[39m drview_ids\n",
      "File \u001b[0;32m~/Desktop/PostDoc/Model/viewgraph/Utility.py:96\u001b[0m, in \u001b[0;36mUtility.calculate_distance\u001b[0;34m(d1, d2)\u001b[0m\n\u001b[1;32m     94\u001b[0m \u001b[38;5;129m@staticmethod\u001b[39m\n\u001b[1;32m     95\u001b[0m \u001b[38;5;28;01mdef\u001b[39;00m \u001b[38;5;21mcalculate_distance\u001b[39m(d1, d2):\n\u001b[0;32m---> 96\u001b[0m     \u001b[38;5;28;01mreturn\u001b[39;00m math\u001b[38;5;241m.\u001b[39msqrt(math\u001b[38;5;241m.\u001b[39mpow(d1\u001b[38;5;241m.\u001b[39mx \u001b[38;5;241m-\u001b[39m d2\u001b[38;5;241m.\u001b[39mx, \u001b[38;5;241m2\u001b[39m) \u001b[38;5;241m+\u001b[39m math\u001b[38;5;241m.\u001b[39mpow(d1\u001b[38;5;241m.\u001b[39my \u001b[38;5;241m-\u001b[39m \u001b[43md2\u001b[49m\u001b[38;5;241;43m.\u001b[39;49m\u001b[43my\u001b[49m, \u001b[38;5;241m2\u001b[39m)) \u001b[38;5;241m*\u001b[39m \u001b[38;5;241m10000\u001b[39m\n",
      "File \u001b[0;32m~/opt/anaconda3/envs/other/lib/python3.9/site-packages/shapely/geometry/point.py:71\u001b[0m, in \u001b[0;36mPoint.y\u001b[0;34m(self)\u001b[0m\n\u001b[1;32m     68\u001b[0m \u001b[38;5;129m@property\u001b[39m\n\u001b[1;32m     69\u001b[0m \u001b[38;5;28;01mdef\u001b[39;00m \u001b[38;5;21my\u001b[39m(\u001b[38;5;28mself\u001b[39m):\n\u001b[1;32m     70\u001b[0m     \u001b[38;5;124;03m\"\"\"Return y coordinate.\"\"\"\u001b[39;00m\n\u001b[0;32m---> 71\u001b[0m     \u001b[38;5;28;01mreturn\u001b[39;00m \u001b[38;5;28;43mself\u001b[39;49m\u001b[38;5;241;43m.\u001b[39;49m\u001b[43mcoords\u001b[49m\u001b[43m[\u001b[49m\u001b[38;5;241;43m0\u001b[39;49m\u001b[43m]\u001b[49m[\u001b[38;5;241m1\u001b[39m]\n",
      "File \u001b[0;32m~/opt/anaconda3/envs/other/lib/python3.9/site-packages/shapely/coords.py:90\u001b[0m, in \u001b[0;36mCoordinateSequence.__getitem__\u001b[0;34m(self, key)\u001b[0m\n\u001b[1;32m     88\u001b[0m \u001b[38;5;28;01melse\u001b[39;00m:\n\u001b[1;32m     89\u001b[0m     i \u001b[38;5;241m=\u001b[39m key\n\u001b[0;32m---> 90\u001b[0m \u001b[43mlgeos\u001b[49m\u001b[38;5;241;43m.\u001b[39;49m\u001b[43mGEOSCoordSeq_getX\u001b[49m\u001b[43m(\u001b[49m\u001b[38;5;28;43mself\u001b[39;49m\u001b[38;5;241;43m.\u001b[39;49m\u001b[43m_cseq\u001b[49m\u001b[43m,\u001b[49m\u001b[43m \u001b[49m\u001b[43mi\u001b[49m\u001b[43m,\u001b[49m\u001b[43m \u001b[49m\u001b[43mbyref\u001b[49m\u001b[43m(\u001b[49m\u001b[43mdx\u001b[49m\u001b[43m)\u001b[49m\u001b[43m)\u001b[49m\n\u001b[1;32m     91\u001b[0m lgeos\u001b[38;5;241m.\u001b[39mGEOSCoordSeq_getY(\u001b[38;5;28mself\u001b[39m\u001b[38;5;241m.\u001b[39m_cseq, i, byref(dy))\n\u001b[1;32m     92\u001b[0m \u001b[38;5;28;01mif\u001b[39;00m has_z:\n",
      "\u001b[0;31mKeyboardInterrupt\u001b[0m: "
     ]
    }
   ],
   "source": [
    "# create view graph\n",
    "vgs, isovist_objects = ie.construct_view_graph()"
   ]
  },
  {
   "cell_type": "code",
   "execution_count": null,
   "metadata": {},
   "outputs": [],
   "source": [
    "ie.containers_names"
   ]
  },
  {
   "cell_type": "markdown",
   "metadata": {},
   "source": [
    "## Shortest Path and Route Instruction\n",
    "Here, we first generate a shortest path from a region to another. Then we use the augmented actions and relationships in view graph to generate route instructions from its results."
   ]
  },
  {
   "cell_type": "code",
   "execution_count": null,
   "metadata": {},
   "outputs": [],
   "source": [
    "# todo: set parameters to Parameters class\n",
    "start_container = 'Women Toilet'\n",
    "start_region = 3\n",
    "end_container = 'Active Hub'\n",
    "end_region = 32\n",
    "\n",
    "# todo: after setting this parameter in Parameters you can remove this if statement!\n",
    "# if not Parameters.basic and not Parameters.hypo:\n",
    "#     cidx = ie.containers_names.index(inital_container_name)\n",
    "#     vg = vgs[cidx]\n",
    "#     isovist_object = isovist_objects[cidx]\n",
    "    \n",
    "#     # todo: set parameters to Parameters class\n",
    "#     start_region_shortest_path = 0\n",
    "#     end_region_shortest_path = len(vg.regions_list) - 1"
   ]
  },
  {
   "cell_type": "code",
   "execution_count": null,
   "metadata": {},
   "outputs": [],
   "source": [
    "# calculate shortest path and generate verbal description\n",
    "vp, pv = ie.shortest_path(start_container, start_region, end_container, end_region)\n",
    "\n",
    "# plot shortest path\n",
    "plotter = Plotter()\n",
    "for isovist_object in ie.isovist_objects:\n",
    "    plotter.add_isovist(isovist_object)\n",
    "plotter.add_views(pv)\n",
    "plotter.show(False)\n",
    "plotter.close()"
   ]
  },
  {
   "cell_type": "code",
   "execution_count": null,
   "metadata": {},
   "outputs": [],
   "source": [
    "# generate route instructions\n",
    "def generate_route_descriptions(vp):\n",
    "    container = ''\n",
    "    container_vids = {}\n",
    "    finals = {}\n",
    "    for v in vp[1:-1]:\n",
    "        info = v.split('-V')\n",
    "        if container != info[0]:\n",
    "            container = info[0]\n",
    "            container_vids[container] = []\n",
    "        container_vids[container].append(int(info[1]))\n",
    "    print(container_vids)\n",
    "    for container, vids in container_vids.items():\n",
    "        cidx = ie.containers_names.index(container)\n",
    "        vg = vgs[cidx]\n",
    "        print(cidx)\n",
    "        print(vids)\n",
    "        rds = vg.generate_route_description(vids)\n",
    "        finals[container] = rds\n",
    "    return finals\n",
    "\n",
    "def print_route_descriptions(rd_dictionary):\n",
    "    containers = list(rd_dictionary.keys())\n",
    "    for container in containers:\n",
    "        rd = rd_dictionary[container]\n",
    "        if containers.index(container) < len(containers) - 1:\n",
    "            rd[len(rd)-1] = rd[len(rd)-1].replace('until you reach the destination', 'to enter {}'.format(containers[containers.index(container)+1]))\n",
    "        for r in rd:\n",
    "            print(r)\n",
    "# vg.generate_route_description(vp)\n",
    "print_route_descriptions(generate_route_descriptions(vp))"
   ]
  },
  {
   "cell_type": "code",
   "execution_count": null,
   "metadata": {},
   "outputs": [],
   "source": []
  },
  {
   "cell_type": "markdown",
   "metadata": {},
   "source": [
    "## Derive Door-to-Door Visibility Graph\n",
    "\n",
    "\n",
    "<b>Example:</b>\n",
    "![title](imgs_notebook/door-to-door.png)\n",
    "(source: Liu and Zlatanova, 2011)\n",
    "\n",
    "<b>Node:</b>\n",
    "* Doors (could be also gateways)\n",
    "\n",
    "<b>Edge:</b>\n",
    "* Direct visibility\n",
    "\n",
    "<b>References:</b>\n",
    "* Liu L, Zlatanova S. A \"door-to-door\" path-finding approach for indoor navigation. Proceedings Gi4DM 2011: GeoInformation for Disaster Management, Antalya, Turkey, 3-8 May 2011. 2011.\n",
    "* Mortari F, Zlatanova S, Liu L, Clementini E. Improved geometric network model (IGNM): A novel approach for deriving connectivity graphs for indoor navigation. ISPRS Annals of Photogrammetry, Remote Sensing & Spatial Information Sciences. 2014 Apr 23;2(4).\n",
    "\n",
    "### Generate door-to-door visibility graph (for doors and decision points)"
   ]
  },
  {
   "cell_type": "code",
   "execution_count": null,
   "metadata": {},
   "outputs": [],
   "source": [
    "# derive door-to-door visibility graph (doors and decision points)\n",
    "connected, dtd_graph = vg.generate_door_to_door_graph(isovist_object)\n",
    "\n",
    "print('Press Enter: Door to door visibility (doors+gateways)')\n",
    "plotter = Plotter()\n",
    "plotter.add_isovist(isovist_object)\n",
    "plotter.add_points_lines(connected)\n",
    "plotter.show()\n",
    "plotter.close()\n",
    "plotter.write_graph('d-t-d-all.html', dtd_graph, is_directed=False)"
   ]
  },
  {
   "cell_type": "code",
   "execution_count": null,
   "metadata": {},
   "outputs": [],
   "source": []
  },
  {
   "cell_type": "markdown",
   "metadata": {},
   "source": [
    "## Generate door-to-door visibility graph (only for doors)"
   ]
  },
  {
   "cell_type": "code",
   "execution_count": null,
   "metadata": {},
   "outputs": [],
   "source": [
    "# derive door-to-door visibility graph (only doors)\n",
    "connected2, dtd_graph2 = vg.generate_door_to_door_graph(isovist_object, only_doors=True)\n",
    "plotter = Plotter()\n",
    "plotter.add_poly(isovist_object.space_x, isovist_object.space_y)\n",
    "plotter.add_holes(isovist_object.holes_x, isovist_object.holes_y)\n",
    "plotter.add_points(isovist_object.door_points[:isovist_object.door_idx], 'doors')\n",
    "plotter.add_points_lines(connected2)\n",
    "plotter.show()\n",
    "plotter.close()\n",
    "plotter.write_graph('d-t-d-doors.html', dtd_graph2, is_directed=False)"
   ]
  },
  {
   "cell_type": "code",
   "execution_count": null,
   "metadata": {},
   "outputs": [],
   "source": []
  },
  {
   "cell_type": "markdown",
   "metadata": {},
   "source": [
    "## Derive navigation graph\n",
    "\n",
    "<b>Example:</b>\n",
    "![title](imgs_notebook/navigation-graph.png)\n",
    "(source: Yang & Worboys, 2015)\n",
    "\n",
    "\n",
    "<b>Reference</b>\n",
    "* Yang L, Worboys M. Generation of navigation graphs for indoor space. International Journal of Geographical Information Science. 2015 Oct 3;29(10):1737-56.\n",
    "* Pang Y, Zhou L, Lin B, Lv G, Zhang C. Generation of navigation networks for corridor spaces based on indoor visibility map. International Journal of Geographical Information Science. 2020 Jan 2;34(1):177-201."
   ]
  },
  {
   "cell_type": "code",
   "execution_count": null,
   "metadata": {},
   "outputs": [],
   "source": [
    "# derive all shortest path visibility graph and spanning tree\n",
    "vps, pvs, st_vps, st_pvs, nvgraph = \\\n",
    "    vg.generate_navigation_graph(isovist_object, indirect_access=False)\n",
    "\n",
    "plotter = Plotter()\n",
    "plotter.add_isovist(isovist_object)\n",
    "\n",
    "for pv in pvs:\n",
    "    plotter.add_views(pv)\n",
    "plotter.show()"
   ]
  },
  {
   "cell_type": "code",
   "execution_count": null,
   "metadata": {},
   "outputs": [],
   "source": [
    "plotter.refresh()\n",
    "for pv in st_pvs:\n",
    "    plotter.add_views(pv)\n",
    "plotter.show()"
   ]
  },
  {
   "cell_type": "code",
   "execution_count": null,
   "metadata": {},
   "outputs": [],
   "source": [
    "plotter.refresh()\n",
    "for pv in st_pvs:\n",
    "    plotter.add_points_lines(pv, is_vis=False)\n",
    "plotter.show()"
   ]
  },
  {
   "cell_type": "markdown",
   "metadata": {},
   "source": [
    "## Derive place graph from view graph\n",
    "\n",
    "<b>Example:</b>\n",
    "\n",
    "![title](imgs_notebook/placegraph.png)\n",
    "(Source: Chen et. al. 2018)\n",
    "\n",
    "Nodes:\n",
    "* place:\n",
    "* reference:\n",
    "* n-plet:\n",
    "* spatial relationship:\n",
    "\n",
    "\n",
    "Edges:\n",
    "* locatum:\n",
    "* relatum:\n",
    "* map:\n",
    "* referred by:\n",
    "* has reference direction:\n",
    "\n",
    "<b>Reference</b>: Chen H, Vasardani M, Winter S, Tomko M. A graph database model for knowledge extracted from place descriptions. ISPRS International Journal of Geo-Information. 2018 Jun;7(6):221.\n"
   ]
  },
  {
   "cell_type": "code",
   "execution_count": null,
   "metadata": {},
   "outputs": [],
   "source": [
    "# derive place graph\n",
    "place_graph = vg.generate_place_graph(isovist_object)"
   ]
  },
  {
   "cell_type": "code",
   "execution_count": null,
   "metadata": {},
   "outputs": [],
   "source": [
    "print('Press Enter: Place graph generation; visualize for all and only for landmark 2')\n",
    "plotter.write_graph('placegraph.html', place_graph)"
   ]
  },
  {
   "cell_type": "code",
   "execution_count": null,
   "metadata": {},
   "outputs": [],
   "source": []
  },
  {
   "cell_type": "code",
   "execution_count": null,
   "metadata": {},
   "outputs": [],
   "source": []
  },
  {
   "cell_type": "code",
   "execution_count": null,
   "metadata": {},
   "outputs": [],
   "source": []
  },
  {
   "cell_type": "code",
   "execution_count": null,
   "metadata": {},
   "outputs": [],
   "source": []
  },
  {
   "cell_type": "code",
   "execution_count": null,
   "metadata": {},
   "outputs": [],
   "source": []
  },
  {
   "cell_type": "code",
   "execution_count": null,
   "metadata": {},
   "outputs": [],
   "source": []
  },
  {
   "cell_type": "markdown",
   "metadata": {},
   "source": [
    "# Test Case for the Paper"
   ]
  },
  {
   "cell_type": "code",
   "execution_count": null,
   "metadata": {},
   "outputs": [],
   "source": [
    "Parameters.set_env('hypo')\n",
    "Parameters.print_info()"
   ]
  },
  {
   "cell_type": "code",
   "execution_count": null,
   "metadata": {},
   "outputs": [],
   "source": [
    "ie = read_env()"
   ]
  },
  {
   "cell_type": "code",
   "execution_count": null,
   "metadata": {
    "pycharm": {
     "name": "#%%\n"
    }
   },
   "outputs": [],
   "source": [
    "# create view graph\n",
    "vg, isovist_object = ie.cviewgraph(0)"
   ]
  },
  {
   "cell_type": "markdown",
   "metadata": {},
   "source": [
    "<!-- ### Visualizing view graph -->"
   ]
  },
  {
   "cell_type": "code",
   "execution_count": null,
   "metadata": {},
   "outputs": [],
   "source": [
    "# vg_1549 = Utility.create_subgraph(vg.rviewgraph, 1549, 1)\n",
    "# nt2 = Network(width='1000px', height='600px', directed=True, notebook=True)\n",
    "# nt2.from_nx(vg_1549, show_edge_weights=False)\n",
    "# nt2.options.physics.use_repulsion({'node_distance': 185, 'central_gravity': 0.2, 'spring_length': 200,\n",
    "#                                     'spring_strength': 0.05, 'damping': 0.09})\n",
    "# nt2.show('vg_1549.html')"
   ]
  },
  {
   "cell_type": "markdown",
   "metadata": {},
   "source": [
    "## Generate Route Instructions\n",
    "\n",
    "### Shortest path calculation in indoor environment"
   ]
  },
  {
   "cell_type": "code",
   "execution_count": null,
   "metadata": {
    "pycharm": {
     "name": "#%%\n"
    }
   },
   "outputs": [],
   "source": [
    "# calculate shortest path\n",
    "vp, pv= vg.shortest_path_regions(38, 56)\n",
    "plotter = Plotter()\n",
    "plotter.add_isovist(isovist_object)\n",
    "plotter.add_views(pv)\n",
    "plotter.show()\n",
    "plotter.close()"
   ]
  },
  {
   "cell_type": "markdown",
   "metadata": {},
   "source": [
    "### Generate route instructions"
   ]
  },
  {
   "cell_type": "code",
   "execution_count": null,
   "metadata": {
    "pycharm": {
     "name": "#%%\n"
    }
   },
   "outputs": [],
   "source": [
    "# generate verbal description\n",
    "instructions = vg.generate_route_description(vp)"
   ]
  },
  {
   "cell_type": "markdown",
   "metadata": {},
   "source": [
    "## Derive Door-to-Door Visibility Graph\n",
    "\n",
    "\n",
    "<b>Example:</b>\n",
    "![title](imgs_notebook/door-to-door.png)\n",
    "(source: Liu and Zlatanova, 2011)\n",
    "\n",
    "<b>Node:</b>\n",
    "* Doors (could be also gateways)\n",
    "\n",
    "<b>Edge:</b>\n",
    "* Direct visibility\n",
    "\n",
    "<b>References:</b>\n",
    "* Liu L, Zlatanova S. A \"door-to-door\" path-finding approach for indoor navigation. Proceedings Gi4DM 2011: GeoInformation for Disaster Management, Antalya, Turkey, 3-8 May 2011. 2011.\n",
    "* Mortari F, Zlatanova S, Liu L, Clementini E. Improved geometric network model (IGNM): A novel approach for deriving connectivity graphs for indoor navigation. ISPRS Annals of Photogrammetry, Remote Sensing & Spatial Information Sciences. 2014 Apr 23;2(4).\n",
    "\n",
    "### Generate door-to-door visibility graph (for doors and decision points)"
   ]
  },
  {
   "cell_type": "code",
   "execution_count": null,
   "metadata": {
    "pycharm": {
     "name": "#%%\n"
    }
   },
   "outputs": [],
   "source": [
    "# derive door-to-door visibility graph (doors and decision points)\n",
    "connected, dtd_graph = vg.generate_door_to_door_graph(isovist_object)\n",
    "plotter = Plotter()\n",
    "plotter.add_isovist(isovist_object)\n",
    "plotter.add_points_lines(connected)\n",
    "plotter.show()\n",
    "plotter.close()"
   ]
  },
  {
   "cell_type": "code",
   "execution_count": null,
   "metadata": {
    "pycharm": {
     "name": "#%%\n"
    }
   },
   "outputs": [],
   "source": [
    "from pyvis.network import Network\n",
    "\n",
    "nt2 = Network(width='1000px', height='600px', directed=False, notebook=True)\n",
    "nt2.from_nx(dtd_graph, show_edge_weights=False)\n",
    "nt2.options.physics.use_repulsion({'node_distance': 185, 'central_gravity': 0.2, 'spring_length': 200,\n",
    "                                    'spring_strength': 0.05, 'damping': 0.09})\n",
    "\n",
    "nt2.show('d-t-d-all.html')"
   ]
  },
  {
   "cell_type": "markdown",
   "metadata": {},
   "source": [
    "### Generate door-to-door visibility graph (only for doors)"
   ]
  },
  {
   "cell_type": "code",
   "execution_count": null,
   "metadata": {
    "pycharm": {
     "name": "#%%\n"
    }
   },
   "outputs": [],
   "source": [
    "connected2, dtd_graph2 = vg.generate_door_to_door_graph(isovist_object, only_doors=True)\n",
    "plotter = Plotter()\n",
    "plotter.add_poly(isovist_object.space_x, isovist_object.space_y)\n",
    "plotter.add_holes(isovist_object.holes_x, isovist_object.holes_y)\n",
    "plotter.add_points(isovist_object.door_points[:isovist_object.door_idx], 'doors')\n",
    "plotter.add_points_lines(connected2)\n",
    "plotter.show()\n",
    "plotter.close()"
   ]
  },
  {
   "cell_type": "code",
   "execution_count": null,
   "metadata": {
    "pycharm": {
     "name": "#%%\n"
    }
   },
   "outputs": [],
   "source": [
    "nt2 = Network(width='1000px', height='600px', directed=False, notebook=True)\n",
    "nt2.from_nx(dtd_graph2, show_edge_weights=False)\n",
    "nt2.options.physics.use_repulsion({'node_distance': 185, 'central_gravity': 0.2, 'spring_length': 200,\n",
    "                                    'spring_strength': 0.05, 'damping': 0.09})\n",
    "\n",
    "nt2.show('d-t-d-doors.html')"
   ]
  },
  {
   "cell_type": "markdown",
   "metadata": {},
   "source": [
    "## Derive navigation graph\n",
    "\n",
    "<b>Example:</b>\n",
    "![title](imgs_notebook/navigation-graph.png)\n",
    "(source: Yang & Worboys, 2015)\n",
    "\n",
    "\n",
    "<b>Reference</b>\n",
    "* Yang L, Worboys M. Generation of navigation graphs for indoor space. International Journal of Geographical Information Science. 2015 Oct 3;29(10):1737-56.\n",
    "* Pang Y, Zhou L, Lin B, Lv G, Zhang C. Generation of navigation networks for corridor spaces based on indoor visibility map. International Journal of Geographical Information Science. 2020 Jan 2;34(1):177-201."
   ]
  },
  {
   "cell_type": "code",
   "execution_count": null,
   "metadata": {
    "pycharm": {
     "name": "#%%\n"
    }
   },
   "outputs": [],
   "source": [
    "# derive all shortest path visibility graph and spanning tree\n",
    "vps, pvs, st_vps, st_pvs, nvgraph = vg.generate_navigation_graph(isovist_object, False)\n",
    "plotter = Plotter()\n",
    "plotter.add_isovist(isovist_object)\n",
    "\n",
    "# all path for gateways (doors+decision points)\n",
    "for pv in pvs:\n",
    "    plotter.add_views(pv)\n",
    "plotter.show()"
   ]
  },
  {
   "cell_type": "code",
   "execution_count": null,
   "metadata": {
    "pycharm": {
     "name": "#%%\n"
    }
   },
   "outputs": [],
   "source": [
    "# minimum spanning tree of shortest path fully connect graph\n",
    "plotter.refresh()\n",
    "for pv in st_pvs:\n",
    "    plotter.add_views(pv)\n",
    "plotter.show()"
   ]
  },
  {
   "cell_type": "code",
   "execution_count": null,
   "metadata": {
    "pycharm": {
     "name": "#%%\n"
    }
   },
   "outputs": [],
   "source": [
    "# navigation graph\n",
    "plotter.refresh()\n",
    "for pv in st_pvs:\n",
    "    plotter.add_points_lines(pv, is_vis=False)\n",
    "plotter.show()"
   ]
  },
  {
   "cell_type": "code",
   "execution_count": null,
   "metadata": {
    "pycharm": {
     "name": "#%%\n"
    }
   },
   "outputs": [],
   "source": [
    "# todo: generate navigation 'graph' for gateways + doors\n",
    "nt2 = Network(width='1000px', height='600px', directed=False, notebook=True)\n",
    "nt2.from_nx(nvgraph, show_edge_weights=False)\n",
    "nt2.options.physics.use_repulsion({'node_distance': 185, 'central_gravity': 0.2, 'spring_length': 200,\n",
    "                                    'spring_strength': 0.05, 'damping': 0.09})\n",
    "\n",
    "nt2.show('nvgraph.html')"
   ]
  },
  {
   "cell_type": "code",
   "execution_count": null,
   "metadata": {},
   "outputs": [],
   "source": [
    "# using points to visualize (not only view graph and shortest path)\n",
    "# nvgraph.nodes[0]\n",
    "lines = [[isovist_object.door_points[nvgraph.nodes[e[0]]['idx']], isovist_object.door_points[nvgraph.nodes[e[1]]['idx']]] for e in nvgraph.edges]\n",
    "plotter = Plotter()\n",
    "plotter.add_isovist(isovist_object)\n",
    "plotter.add_points_lines(lines)\n",
    "plotter.show()\n",
    "plotter.close()"
   ]
  },
  {
   "cell_type": "markdown",
   "metadata": {},
   "source": [
    "## Derive place graph from view graph\n",
    "\n",
    "<b>Example:</b>\n",
    "\n",
    "![title](imgs_notebook/placegraph.png)\n",
    "(Source: Chen et. al. 2018)\n",
    "\n",
    "Nodes:\n",
    "* place:\n",
    "* reference:\n",
    "* n-plet:\n",
    "* spatial relationship:\n",
    "\n",
    "\n",
    "Edges:\n",
    "* locatum:\n",
    "* relatum:\n",
    "* map:\n",
    "* referred by:\n",
    "* has reference direction:\n",
    "\n",
    "<b>Reference</b>: Chen H, Vasardani M, Winter S, Tomko M. A graph database model for knowledge extracted from place descriptions. ISPRS International Journal of Geo-Information. 2018 Jun;7(6):221.\n"
   ]
  },
  {
   "cell_type": "code",
   "execution_count": null,
   "metadata": {
    "pycharm": {
     "name": "#%%\n"
    }
   },
   "outputs": [],
   "source": [
    "place_graph = vg.generate_place_graph(isovist_object)"
   ]
  },
  {
   "cell_type": "markdown",
   "metadata": {},
   "source": [
    "### Single Nplet\n",
    "Select a single n-plet from different spatial relationships and visualize the graph and spatial configuration\n",
    "\n",
    "1. between\n",
    "2. near\n",
    "3. left/right"
   ]
  },
  {
   "cell_type": "code",
   "execution_count": null,
   "metadata": {},
   "outputs": [],
   "source": [
    "def nplet_extraction(nplet_id):\n",
    "    ## nplet_id = 'n830'\n",
    "    place_graph[nplet_id]  # left\n",
    "    # place_graph['n100'] # between\n",
    "\n",
    "    # nodes = ['n830', 'left', 'place12', 'gateway 12', 'landmark 20', 'gateway 1']\n",
    "    nodes = [nplet_id]\n",
    "    nodes.extend(list(dict(place_graph[nplet_id]).keys()))\n",
    "\n",
    "    additional = []\n",
    "    for node in nodes:\n",
    "        if node.startswith('place'):\n",
    "            additional.extend(list(dict(place_graph[node]).keys()))\n",
    "    nodes.extend(additional)\n",
    "\n",
    "    for v in list(place_graph.edges):\n",
    "        if v[1] == nplet_id:\n",
    "            nodes.append(v[0])\n",
    "            if v[0].startswith('place'):\n",
    "                nodes.extend(list(dict(place_graph[v[0]]).keys()))\n",
    "\n",
    "    nplets = place_graph.subgraph(nodes)\n",
    "    nt2 = Network(width='1000px', height='600px', directed=True, notebook=True)\n",
    "    nt2.from_nx(nplets, show_edge_weights=False)\n",
    "    nt2.options.physics.use_repulsion({'node_distance': 185, 'central_gravity': 0.2, 'spring_length': 200,\n",
    "                                        'spring_strength': 0.05, 'damping': 0.09})\n",
    "    return nt2, nodes\n",
    "\n",
    "spatial_expression = 'gateway 8 between landmark 25 and landmark 23'\n",
    "for n in place_graph.nodes:\n",
    "    if n.startswith('n') and 'exp' in place_graph.nodes[n].keys() and place_graph.nodes[n]['exp'] == spatial_expression:\n",
    "        nplet = n\n",
    "        break\n",
    "nt2, nplet_nodes = nplet_extraction(nplet)\n",
    "nt2.show('nplet_1.html')\n"
   ]
  },
  {
   "cell_type": "code",
   "execution_count": null,
   "metadata": {},
   "outputs": [],
   "source": [
    "# plot spatial configuration for the n-plet\n",
    "def plot_configuration(nodes):\n",
    "    landmarks = []\n",
    "    gateways = []\n",
    "    for n in nodes:\n",
    "        if 'gateway ' in n:\n",
    "            gateways.append(isovist_object.door_points[int(n.replace('gateway ', ''))])\n",
    "        elif 'landmark ' in n:\n",
    "            landmarks.append(isovist_object.landmarks_points[int(n.replace('landmark ', ''))])\n",
    "\n",
    "    plotter = Plotter()\n",
    "    plotter.add_poly(isovist_object.space_x, isovist_object.space_y)\n",
    "    plotter.add_holes(isovist_object.holes_x, isovist_object.holes_y)\n",
    "    plotter.add_points(landmarks, label='graph (landmarks)', color='ko')\n",
    "    plotter.add_points(gateways, label='graph (gateways)', color='mo')\n",
    "    plotter.show()\n",
    "plot_configuration(nplet_nodes)"
   ]
  },
  {
   "cell_type": "code",
   "execution_count": null,
   "metadata": {},
   "outputs": [],
   "source": [
    "spatial_expression = 'landmark 24 right of landmark 9'\n",
    "for n in place_graph.nodes:\n",
    "    if n.startswith('n') and 'exp' in place_graph.nodes[n].keys() and place_graph.nodes[n]['exp'] == spatial_expression:\n",
    "        nplet = n\n",
    "        break\n",
    "nt2, nplet_nodes = nplet_extraction(nplet)\n",
    "nt2.show('nplet_1.html')"
   ]
  },
  {
   "cell_type": "code",
   "execution_count": null,
   "metadata": {},
   "outputs": [],
   "source": [
    "plot_configuration(nplet_nodes)"
   ]
  },
  {
   "cell_type": "code",
   "execution_count": null,
   "metadata": {},
   "outputs": [],
   "source": [
    "spatial_expression = 'gateway 7 near gateway 14'\n",
    "for n in place_graph.nodes:\n",
    "    if n.startswith('n') and 'exp' in place_graph.nodes[n].keys() and place_graph.nodes[n]['exp'] == spatial_expression:\n",
    "        nplet = n\n",
    "        break\n",
    "nt2, nplet_nodes = nplet_extraction(nplet)\n",
    "nt2.show('nplet_1.html')"
   ]
  },
  {
   "cell_type": "code",
   "execution_count": null,
   "metadata": {},
   "outputs": [],
   "source": [
    "plot_configuration(nplet_nodes)"
   ]
  },
  {
   "cell_type": "markdown",
   "metadata": {
    "pycharm": {
     "name": "#%% md\n"
    }
   },
   "source": [
    "### Visualize a part of place graph (center: landmark 2, radius=2)"
   ]
  },
  {
   "cell_type": "code",
   "execution_count": null,
   "metadata": {
    "pycharm": {
     "name": "#%%\n"
    }
   },
   "outputs": [],
   "source": [
    "pg_l2_2 = Utility.create_subgraph(place_graph, 'landmark 2', 2)\n",
    "\n",
    "nt2 = Network(width='1000px', height='600px', directed=True, notebook=True)\n",
    "nt2.from_nx(pg_l2_2, show_edge_weights=False)\n",
    "nt2.options.physics.use_repulsion({'node_distance': 185, 'central_gravity': 0.2, 'spring_length': 200,\n",
    "                                    'spring_strength': 0.05, 'damping': 0.09})\n",
    "\n",
    "nt2.show('placegraph_l2_2.html')"
   ]
  },
  {
   "cell_type": "code",
   "execution_count": null,
   "metadata": {
    "pycharm": {
     "name": "#%%\n"
    }
   },
   "outputs": [],
   "source": [
    "plotter = Plotter()\n",
    "plotter.add_poly(isovist_object.space_x, isovist_object.space_y)\n",
    "plotter.add_holes(isovist_object.holes_x, isovist_object.holes_y)\n",
    "ls = []\n",
    "gs = []\n",
    "for n in list(pg_l2_2.nodes):\n",
    "    if 'landmark ' in n:\n",
    "        lid = int(n.replace('landmark ', ''))\n",
    "        ls.append(isovist_object.landmarks_points[lid])\n",
    "    elif 'gateway ' in n:\n",
    "        gid = int(n.replace('gateway ', ''))\n",
    "        gs.append(isovist_object.door_points[gid])\n",
    "plotter.add_points(ls, label='graph (landmarks)', color='ko')\n",
    "plotter.add_points(gs, label='graph (gateways)', color='mo')\n",
    "plotter.show()"
   ]
  },
  {
   "cell_type": "markdown",
   "metadata": {},
   "source": [
    "### Visualize a part of place graph (center: gateway 7, radius=2)"
   ]
  },
  {
   "cell_type": "code",
   "execution_count": null,
   "metadata": {
    "pycharm": {
     "name": "#%%\n"
    },
    "scrolled": true
   },
   "outputs": [],
   "source": [
    "pg_g7_2 = Utility.create_subgraph(place_graph, 'gateway 7', 2)\n",
    "\n",
    "nt2 = Network(width='1000px', height='600px', directed=True, notebook=True)\n",
    "nt2.from_nx(pg_g7_2, show_edge_weights=False)\n",
    "nt2.options.physics.use_repulsion({'node_distance': 185, 'central_gravity': 0.2, 'spring_length': 200,\n",
    "                                    'spring_strength': 0.05, 'damping': 0.09})\n",
    "\n",
    "nt2.show('placegraph_g7_2.html')"
   ]
  },
  {
   "cell_type": "code",
   "execution_count": null,
   "metadata": {
    "pycharm": {
     "name": "#%%\n"
    }
   },
   "outputs": [],
   "source": [
    "plotter = Plotter()\n",
    "plotter.add_poly(isovist_object.space_x, isovist_object.space_y)\n",
    "plotter.add_holes(isovist_object.holes_x, isovist_object.holes_y)\n",
    "ls = []\n",
    "gs = []\n",
    "for n in list(pg_g7_2.nodes):\n",
    "    if 'landmark ' in n:\n",
    "        lid = int(n.replace('landmark ', ''))\n",
    "        ls.append(isovist_object.landmarks_points[lid])\n",
    "    elif 'gateway ' in n:\n",
    "        gid = int(n.replace('gateway ', ''))\n",
    "        gs.append(isovist_object.door_points[gid])\n",
    "plotter.add_points(ls, label='graph (landmarks)', color='ko')\n",
    "plotter.add_points(gs, label='graph (gateways)', color='mo')\n",
    "plotter.show()"
   ]
  },
  {
   "cell_type": "markdown",
   "metadata": {},
   "source": [
    "## Just for testing"
   ]
  },
  {
   "cell_type": "code",
   "execution_count": null,
   "metadata": {},
   "outputs": [],
   "source": [
    "def plot_point(pid, ptype='landmark'):\n",
    "    plotter = Plotter()\n",
    "    plotter.add_poly(isovist_object.space_x, isovist_object.space_y)\n",
    "    plotter.add_holes(isovist_object.holes_x, isovist_object.holes_y)\n",
    "    if ptype != 'landmark':\n",
    "        plotter.add_points([isovist_object.door_points[pid]], label=ptype, color='mo')\n",
    "    else:\n",
    "        plotter.add_points([isovist_object.landmarks_points[pid]], label=ptype, color='mo')\n",
    "    plotter.show()\n",
    "plot_point(14, 'gateway')"
   ]
  },
  {
   "cell_type": "code",
   "execution_count": null,
   "metadata": {},
   "outputs": [],
   "source": [
    "for n in place_graph.nodes:\n",
    "    if n.startswith('gateway ') or n.startswith('landmark '):\n",
    "        print('{0}: {1}'.format(n, len(place_graph[n])))"
   ]
  },
  {
   "cell_type": "code",
   "execution_count": null,
   "metadata": {},
   "outputs": [],
   "source": []
  }
 ],
 "metadata": {
  "kernelspec": {
   "display_name": "Python [conda env:other] *",
   "language": "python",
   "name": "conda-env-other-py"
  },
  "language_info": {
   "codemirror_mode": {
    "name": "ipython",
    "version": 3
   },
   "file_extension": ".py",
   "mimetype": "text/x-python",
   "name": "python",
   "nbconvert_exporter": "python",
   "pygments_lexer": "ipython3",
   "version": "3.9.7"
  }
 },
 "nbformat": 4,
 "nbformat_minor": 1
}
