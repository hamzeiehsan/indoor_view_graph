{
 "cells": [
  {
   "cell_type": "markdown",
   "metadata": {
    "collapsed": true,
    "pycharm": {
     "name": "#%% md\n"
    }
   },
   "source": [
    "# View Graph For Indoor Navigation\n",
    "## Abstract\n",
    "Recently, several indoor graph models have been proposed to capture topological and geometric information, and generate navigation graphs and route descriptions. Varied modelling approaches in these studies lead to incompatible graph structures that are only suitable for specific use-cases. The inconsistency in the indoor models sources from the differences in modelling approaches that are either focused on capturing the <em>survey</em> or the <em>route</em> information. For example, the topological and geometric models capture survey information of an indoor environment, while navigation graph and route description models mainly store route information. In this study, we propose a new concept, based on <em>views</em>, to capture survey and route information of an indoor environment in a unified manner. We define views as directed line of sights in which the visible spatial objects and their relationships are the same along the view. Using views, moving in the space (route information) can be captured as going from one view to another, and survey information can be attached to each view based on its visibility situation.\n",
    "\n",
    "## Hypothesis and Research Questions\n",
    "This study hypothesizes that using the concept of <em>view</em> both survey and route knowledge of an indoor environment can be captured. To test the hypothesis, we will address the following research questions:\n",
    "* How can views be extracted from geometric information (e.g., floor plans)?\n",
    "* How can view graphs be constructed to capture <em>movement</em> and <em>turns</em> from one view to another?\n",
    "* Can route descriptions and navigation graphs be generated from the view graph? By this way we can prove that route knowledge of an indoor environment can be captured by views.\n",
    "* Can spatial relationships of indoor objects be extracted from the view graph? By this way we can prove that survey knowledge of an indoor environment can be captured by views.\n",
    "\n",
    "## Definitions\n",
    "* <b>Indoor Environment</b>: An indoor environment is conceptualized as a set of <em>containers</em> (i.e., navigable spaces) that are connected through <em>gateways</em>.\n",
    "* <b>Container</b>: A container is a navigable space (e.g., a corridor or a room) that people can enter or exit using gateways. Containers may contain external landmarks that can be used for guidance purposes.\n",
    "* <b>Gateway</b>: Gateways are either on the boundary of containers (connect a container to another), or inside the containers (i.e., decision points) where people can make a decision on how to move further inside the container.\n",
    "* <b>Landmark</b>: Landmarks are external objects (people do not enter within them) that have significance for routing and guidance (e.g., signs).\n",
    "\n",
    "## Method\n",
    "1. Decomposing each container into visibility regions\n",
    "2. Generating views:\n",
    "    1. <b>inside a region</b>: If one or more gateways are inside the decomposed region a view is constructed from the region centroid to the gateway(s) and vice versa;\n",
    "    2. <b>from a region to another region</b>: For adjacent regions, views are constructed to move from one region to its neighbours;\n",
    "    3. <b>from a region to gateway(s)</b>: If a gateway is visible from a region (based on the region visibility signature, a view is constructed from the region centroid to its visible gateway(s);\n",
    "3. Calculating spatial relationships for each view including topological, directional and order relationships that visible for the agent;\n",
    "4. Decomposing region-to-gateway views to sequences of views if the visibility of gateways and landmarks changes across the views;\n",
    "5. Generating a directed dual graph for views in which the nodes are views and edges are connection between views:\n",
    "    * If the end of one view is the start another view, these views are connected through <em>movement</em>;\n",
    "    * If the start of one view is the start of another view, these views are connected through <em>turn</em>\n",
    "6. Linking the view graphs for containers based on the gateways that connects them to generate the view graph for the whole indoor environment -- i.e., views incident to gateways in one container will be linked to views that starts from the gateways in the other containers.\n",
    "\n",
    "Finally, we demonstrate how the view graph can be used to (1) generate navigation graph, (2) extract spatial relationships, and (3) generate route descriptions.\n",
    "\n",
    "## Environment\n",
    "### Test Environment (Hypothetical Floor Plan)\n",
    "![title](imgs_notebook/hypo_map.png)\n",
    "### Real World Environment (Melbourne Connect Level 5)\n",
    "![title](imgs_notebook/mc_map.png)\n",
    "\n",
    "## References\n",
    "* Amoozandeh K, Winter S, Tomko M. Space decomposition based on visible objects in an indoor environment. Environment and Planning B: Urban Analytics and City Science. 2021 Aug 11:23998083211037347.\n",
    "* Becker T, Nagel C, Kolbe TH. A multilayered space-event model for navigation in indoor spaces. In3D geo-information sciences 2009 (pp. 61-77). Springer, Berlin, Heidelberg.\n",
    "* Liu L, Zlatanova S. A \"door-to-door\" path-finding approach for indoor navigation. Proceedings Gi4DM 2011: GeoInformation for Disaster Management, Antalya, Turkey, 3-8 May 2011. 2011.\n",
    "* Mortari F, Zlatanova S, Liu L, Clementini E. Improved geometric network model (IGNM): A novel approach for deriving connectivity graphs for indoor navigation. ISPRS Annals of Photogrammetry, Remote Sensing & Spatial Information Sciences. 2014 Apr 23;2(4).\n",
    "* Pang Y, Zhou L, Lin B, Lv G, Zhang C. Generation of navigation networks for corridor spaces based on indoor visibility map. International Journal of Geographical Information Science. 2020 Jan 2;34(1):177-201.\n",
    "* Werner S, Krieg-Brückner B, Mallot HA, Schweizer K, Freksa C. Spatial cognition: The role of landmark, route, and survey knowledge in human and robot navigation. In Informatik’97 Informatik als Innovationsmotor 1997 (pp. 41-50). Springer, Berlin, Heidelberg.\n",
    "* Yang L, Worboys M. Generation of navigation graphs for indoor space. International Journal of Geographical Information Science. 2015 Oct 3;29(10):1737-56.\n",
    "* Zhou Z, Weibel R, Richter KF, Huang H. HiVG: A hierarchical indoor visibility-based graph for navigation guidance in multi-storey buildings. Computers, Environment and Urban Systems. 2022 Apr 1;93:101751.\n"
   ]
  },
  {
   "cell_type": "markdown",
   "metadata": {
    "pycharm": {
     "name": "#%% md\n"
    }
   },
   "source": [
    "## Creating View Graph\n",
    "\n",
    "### Loading classes"
   ]
  },
  {
   "cell_type": "code",
   "execution_count": 1,
   "metadata": {
    "pycharm": {
     "name": "#%%\n"
    }
   },
   "outputs": [],
   "source": [
    "from Container import Container\n",
    "from Isovist import Isovist\n",
    "from Plotter import Plotter\n",
    "from Utility import Utility\n",
    "from ViewGraph import ViewGraph\n",
    "from Environment import IndoorEnvironment"
   ]
  },
  {
   "cell_type": "markdown",
   "metadata": {},
   "source": [
    "### Loading environment from GeoJSON files"
   ]
  },
  {
   "cell_type": "code",
   "execution_count": 2,
   "metadata": {
    "pycharm": {
     "name": "#%%\n"
    }
   },
   "outputs": [
    {
     "name": "stdout",
     "output_type": "stream",
     "text": [
      "environment files -- count is valid\n",
      "reading GeoJSON files (boundary, holes, doors and decision points)\n"
     ]
    }
   ],
   "source": [
    "# test environment\n",
    "address = 'envs/hypo/'\n",
    "polygon_files = ['hypo_env.geojson']\n",
    "holes_files = ['hypo_holes.geojson']\n",
    "doors_files = ['hypo_doors.geojson']\n",
    "dpoints_files = ['hypo_dpoints.geojson']\n",
    "landmarks_files = ['hypo_landmarks.geojson']\n",
    "\n",
    "# create an indoor environment\n",
    "ie = IndoorEnvironment(address, polygon_files, holes_files, doors_files, dpoints_files, landmarks_files)"
   ]
  },
  {
   "cell_type": "markdown",
   "metadata": {},
   "source": [
    "### Decomposing regions into isovists, and create view graph\n"
   ]
  },
  {
   "cell_type": "code",
   "execution_count": 3,
   "metadata": {
    "pycharm": {
     "name": "#%%\n"
    }
   },
   "outputs": [
    {
     "name": "stdout",
     "output_type": "stream",
     "text": [
      "calculating the visibility signatures...\n",
      "calculating adjacency matrix for regions\n",
      "finding regions that contains doors/gateways and decision points\n",
      "decompose views\n",
      "constructing view graph for regions\n",
      "calculating all spatial relationships visible in each view\n",
      "Adding actions to views (nodes)\n",
      "Adding actions to view relations (edges)\n"
     ]
    }
   ],
   "source": [
    "# create view graph\n",
    "vg, isovist_object = ie.cviewgraph(0)"
   ]
  },
  {
   "cell_type": "markdown",
   "metadata": {},
   "source": [
    "## Generate Route Instructions\n",
    "\n",
    "### Shortest path calculation in indoor environment"
   ]
  },
  {
   "cell_type": "code",
   "execution_count": 4,
   "metadata": {
    "pycharm": {
     "name": "#%%\n"
    }
   },
   "outputs": [
    {
     "data": {
      "image/png": "[encoded data removed]",
      "text/plain": [
       "<Figure size 432x288 with 1 Axes>"
      ]
     },
     "metadata": {
      "needs_background": "light"
     },
     "output_type": "display_data"
    },
    {
     "data": {
      "text/plain": [
       "<Figure size 432x288 with 0 Axes>"
      ]
     },
     "metadata": {},
     "output_type": "display_data"
    }
   ],
   "source": [
    "# calculate shortest path\n",
    "vp, pv= vg.shortest_path_regions(38, 56)\n",
    "plotter = Plotter()\n",
    "plotter.add_isovist(isovist_object)\n",
    "plotter.add_views(pv)\n",
    "plotter.show()\n",
    "plotter.close()"
   ]
  },
  {
   "cell_type": "markdown",
   "metadata": {},
   "source": [
    "### Generate route instructions"
   ]
  },
  {
   "cell_type": "code",
   "execution_count": 5,
   "metadata": {
    "pycharm": {
     "name": "#%%\n"
    }
   },
   "outputs": [
    {
     "name": "stdout",
     "output_type": "stream",
     "text": [
      "************Verbal Description**************\n",
      "\tHead towards gateway 28\n",
      "\tPass landmark 17 and turn right\n",
      "\tPass landmark 18 and turn left\n",
      "\tFollow gateway 14 on the front and turn right\n",
      "\tFollow gateway 27 on the front and turn left\n",
      "\tPass landmark 12 and turn right\n",
      "\tPass gateway 23 and move forward until you reach the destination\n",
      "********************END*********************\n",
      "\n"
     ]
    }
   ],
   "source": [
    "# generate verbal description\n",
    "instructions = vg.generate_route_description(vp)"
   ]
  },
  {
   "cell_type": "markdown",
   "metadata": {},
   "source": [
    "## Derive Door-to-Door Visibility Graph\n",
    "\n",
    "\n",
    "<b>Example:</b>\n",
    "![title](imgs_notebook/door-to-door.png)\n",
    "(source: Liu and Zlatanova, 2011)\n",
    "\n",
    "<b>Node:</b>\n",
    "* Doors (could be also gateways)\n",
    "\n",
    "<b>Edge:</b>\n",
    "* Direct visibility\n",
    "\n",
    "<b>References:</b>\n",
    "* Liu L, Zlatanova S. A \"door-to-door\" path-finding approach for indoor navigation. Proceedings Gi4DM 2011: GeoInformation for Disaster Management, Antalya, Turkey, 3-8 May 2011. 2011.\n",
    "* Mortari F, Zlatanova S, Liu L, Clementini E. Improved geometric network model (IGNM): A novel approach for deriving connectivity graphs for indoor navigation. ISPRS Annals of Photogrammetry, Remote Sensing & Spatial Information Sciences. 2014 Apr 23;2(4).\n",
    "\n",
    "### Generate door-to-door visibility graph (for doors and decision points)"
   ]
  },
  {
   "cell_type": "code",
   "execution_count": 6,
   "metadata": {
    "pycharm": {
     "name": "#%%\n"
    }
   },
   "outputs": [
    {
     "name": "stdout",
     "output_type": "stream",
     "text": [
      "generate door-to-door graph, only_doors False from view graph\n"
     ]
    },
    {
     "data": {
      "image/png": "[encoded data removed]",
      "text/plain": [
       "<Figure size 432x288 with 1 Axes>"
      ]
     },
     "metadata": {
      "needs_background": "light"
     },
     "output_type": "display_data"
    },
    {
     "data": {
      "text/plain": [
       "<Figure size 432x288 with 0 Axes>"
      ]
     },
     "metadata": {},
     "output_type": "display_data"
    }
   ],
   "source": [
    "# derive door-to-door visibility graph (doors and decision points)\n",
    "connected, dtd_graph = vg.generate_door_to_door_graph(isovist_object)\n",
    "plotter = Plotter()\n",
    "plotter.add_isovist(isovist_object)\n",
    "plotter.add_points_lines(connected)\n",
    "plotter.show()\n",
    "plotter.close()"
   ]
  },
  {
   "cell_type": "code",
   "execution_count": 7,
   "metadata": {
    "pycharm": {
     "name": "#%%\n"
    }
   },
   "outputs": [
    {
     "data": {
      "text/html": [
       "\n",
       "        <iframe\n",
       "            width=\"1000px\"\n",
       "            height=\"600px\"\n",
       "            src=\"d-t-d-all.html\"\n",
       "            frameborder=\"0\"\n",
       "            allowfullscreen\n",
       "            \n",
       "        ></iframe>\n",
       "        "
      ],
      "text/plain": [
       "<IPython.lib.display.IFrame at 0x7fce595ae7c0>"
      ]
     },
     "execution_count": 7,
     "metadata": {},
     "output_type": "execute_result"
    }
   ],
   "source": [
    "from pyvis.network import Network\n",
    "\n",
    "nt2 = Network(width='1000px', height='600px', directed=False, notebook=True)\n",
    "nt2.from_nx(dtd_graph, show_edge_weights=False)\n",
    "nt2.options.physics.use_repulsion({'node_distance': 185, 'central_gravity': 0.2, 'spring_length': 200,\n",
    "                                    'spring_strength': 0.05, 'damping': 0.09})\n",
    "\n",
    "nt2.show('d-t-d-all.html')"
   ]
  },
  {
   "cell_type": "markdown",
   "metadata": {},
   "source": [
    "### Generate door-to-door visibility graph (only for doors)"
   ]
  },
  {
   "cell_type": "code",
   "execution_count": 8,
   "metadata": {
    "pycharm": {
     "name": "#%%\n"
    }
   },
   "outputs": [
    {
     "name": "stdout",
     "output_type": "stream",
     "text": [
      "generate door-to-door graph, only_doors True from view graph\n"
     ]
    },
    {
     "data": {
      "image/png": "[encoded data removed]",
      "text/plain": [
       "<Figure size 432x288 with 1 Axes>"
      ]
     },
     "metadata": {
      "needs_background": "light"
     },
     "output_type": "display_data"
    },
    {
     "data": {
      "text/plain": [
       "<Figure size 432x288 with 0 Axes>"
      ]
     },
     "metadata": {},
     "output_type": "display_data"
    }
   ],
   "source": [
    "connected2, dtd_graph2 = vg.generate_door_to_door_graph(isovist_object, only_doors=True)\n",
    "plotter = Plotter()\n",
    "plotter.add_poly(isovist_object.space_x, isovist_object.space_y)\n",
    "plotter.add_holes(isovist_object.holes_x, isovist_object.holes_y)\n",
    "plotter.add_points(isovist_object.door_points[:isovist_object.door_idx], 'doors')\n",
    "plotter.add_points_lines(connected2)\n",
    "plotter.show()\n",
    "plotter.close()"
   ]
  },
  {
   "cell_type": "code",
   "execution_count": 9,
   "metadata": {
    "pycharm": {
     "name": "#%%\n"
    }
   },
   "outputs": [
    {
     "data": {
      "text/html": [
       "\n",
       "        <iframe\n",
       "            width=\"1000px\"\n",
       "            height=\"600px\"\n",
       "            src=\"d-t-d-doors.html\"\n",
       "            frameborder=\"0\"\n",
       "            allowfullscreen\n",
       "            \n",
       "        ></iframe>\n",
       "        "
      ],
      "text/plain": [
       "<IPython.lib.display.IFrame at 0x7fce588e8730>"
      ]
     },
     "execution_count": 9,
     "metadata": {},
     "output_type": "execute_result"
    }
   ],
   "source": [
    "nt2 = Network(width='1000px', height='600px', directed=False, notebook=True)\n",
    "nt2.from_nx(dtd_graph2, show_edge_weights=False)\n",
    "nt2.options.physics.use_repulsion({'node_distance': 185, 'central_gravity': 0.2, 'spring_length': 200,\n",
    "                                    'spring_strength': 0.05, 'damping': 0.09})\n",
    "\n",
    "nt2.show('d-t-d-doors.html')"
   ]
  },
  {
   "cell_type": "markdown",
   "metadata": {},
   "source": [
    "## Derive navigation graph\n",
    "\n",
    "<b>Example:</b>\n",
    "![title](imgs_notebook/navigation-graph.png)\n",
    "(source: Yang & Worboys, 2015)\n",
    "\n",
    "\n",
    "<b>Reference</b>\n",
    "* Yang L, Worboys M. Generation of navigation graphs for indoor space. International Journal of Geographical Information Science. 2015 Oct 3;29(10):1737-56.\n",
    "* Pang Y, Zhou L, Lin B, Lv G, Zhang C. Generation of navigation networks for corridor spaces based on indoor visibility map. International Journal of Geographical Information Science. 2020 Jan 2;34(1):177-201."
   ]
  },
  {
   "cell_type": "code",
   "execution_count": 10,
   "metadata": {
    "pycharm": {
     "name": "#%%\n"
    }
   },
   "outputs": [
    {
     "name": "stdout",
     "output_type": "stream",
     "text": [
      "derive navigation graph using spanning tree from viewgraph\n"
     ]
    },
    {
     "ename": "TypeError",
     "evalue": "'AtlasView' object does not support item assignment",
     "output_type": "error",
     "traceback": [
      "\u001b[0;31m---------------------------------------------------------------------------\u001b[0m",
      "\u001b[0;31mTypeError\u001b[0m                                 Traceback (most recent call last)",
      "Input \u001b[0;32mIn [10]\u001b[0m, in \u001b[0;36m<cell line: 2>\u001b[0;34m()\u001b[0m\n\u001b[1;32m      1\u001b[0m \u001b[38;5;66;03m# derive all shortest path visibility graph and spanning tree\u001b[39;00m\n\u001b[0;32m----> 2\u001b[0m vps, pvs, st_vps, st_pvs, nvgraph \u001b[38;5;241m=\u001b[39m \u001b[43mvg\u001b[49m\u001b[38;5;241;43m.\u001b[39;49m\u001b[43mgenerate_navigation_graph\u001b[49m\u001b[43m(\u001b[49m\u001b[43misovist_object\u001b[49m\u001b[43m,\u001b[49m\u001b[43m \u001b[49m\u001b[38;5;28;43;01mFalse\u001b[39;49;00m\u001b[43m)\u001b[49m\n\u001b[1;32m      3\u001b[0m plotter \u001b[38;5;241m=\u001b[39m Plotter()\n\u001b[1;32m      4\u001b[0m plotter\u001b[38;5;241m.\u001b[39madd_isovist(isovist_object)\n",
      "File \u001b[0;32m~/Desktop/PostDoc/Model/viewgraph/ViewGraph.py:728\u001b[0m, in \u001b[0;36mViewGraph.generate_navigation_graph\u001b[0;34m(self, isovist_object, indirect_access)\u001b[0m\n\u001b[1;32m    726\u001b[0m T \u001b[38;5;241m=\u001b[39m nx\u001b[38;5;241m.\u001b[39mminimum_spanning_tree(path_graph, weight\u001b[38;5;241m=\u001b[39m\u001b[38;5;124m'\u001b[39m\u001b[38;5;124mweight\u001b[39m\u001b[38;5;124m'\u001b[39m)\n\u001b[1;32m    727\u001b[0m \u001b[38;5;28;01mfor\u001b[39;00m node \u001b[38;5;129;01min\u001b[39;00m T\u001b[38;5;241m.\u001b[39mnodes:\n\u001b[0;32m--> 728\u001b[0m     T[node][\u001b[38;5;124m'\u001b[39m\u001b[38;5;124mlabel\u001b[39m\u001b[38;5;124m'\u001b[39m] \u001b[38;5;241m=\u001b[39m \u001b[38;5;124m'\u001b[39m\u001b[38;5;124mgateway \u001b[39m\u001b[38;5;132;01m{}\u001b[39;00m\u001b[38;5;124m'\u001b[39m\u001b[38;5;241m.\u001b[39mformat(node\u001b[38;5;241m+\u001b[39misovist_object\u001b[38;5;241m.\u001b[39mdoor_idx)\n\u001b[1;32m    729\u001b[0m     T[node][\u001b[38;5;124m'\u001b[39m\u001b[38;5;124mid\u001b[39m\u001b[38;5;124m'\u001b[39m] \u001b[38;5;241m=\u001b[39m node\u001b[38;5;241m+\u001b[39misovist_object\u001b[38;5;241m.\u001b[39mdoor_idx\n\u001b[1;32m    730\u001b[0m st \u001b[38;5;241m=\u001b[39m \u001b[38;5;28msorted\u001b[39m(T\u001b[38;5;241m.\u001b[39medges(data\u001b[38;5;241m=\u001b[39m\u001b[38;5;28;01mTrue\u001b[39;00m))\n",
      "\u001b[0;31mTypeError\u001b[0m: 'AtlasView' object does not support item assignment"
     ]
    }
   ],
   "source": [
    "# derive all shortest path visibility graph and spanning tree\n",
    "vps, pvs, st_vps, st_pvs, nvgraph = vg.generate_navigation_graph(isovist_object, False)\n",
    "plotter = Plotter()\n",
    "plotter.add_isovist(isovist_object)\n",
    "\n",
    "# all path for gateways (doors+decision points)\n",
    "for pv in pvs:\n",
    "    plotter.add_views(pv)\n",
    "plotter.show()"
   ]
  },
  {
   "cell_type": "code",
   "execution_count": null,
   "metadata": {
    "pycharm": {
     "name": "#%%\n"
    }
   },
   "outputs": [],
   "source": [
    "# minimum spanning tree of shortest path fully connect graph\n",
    "plotter.refresh()\n",
    "for pv in st_pvs:\n",
    "    plotter.add_views(pv)\n",
    "plotter.show()"
   ]
  },
  {
   "cell_type": "code",
   "execution_count": null,
   "metadata": {
    "pycharm": {
     "name": "#%%\n"
    }
   },
   "outputs": [],
   "source": [
    "# navigation graph\n",
    "plotter.refresh()\n",
    "for pv in st_pvs:\n",
    "    plotter.add_points_lines(pv, is_vis=False)\n",
    "plotter.show()"
   ]
  },
  {
   "cell_type": "code",
   "execution_count": null,
   "metadata": {
    "pycharm": {
     "name": "#%%\n"
    }
   },
   "outputs": [],
   "source": [
    "# todo: generate navigation 'graph' for gateways + doors"
   ]
  },
  {
   "cell_type": "markdown",
   "metadata": {},
   "source": [
    "## Derive place graph from view graph\n",
    "\n",
    "<b>Example:</b>\n",
    "\n",
    "![title](imgs_notebook/placegraph.png)\n",
    "(Source: Chen et. al. 2018)\n",
    "\n",
    "Nodes:\n",
    "* place:\n",
    "* reference:\n",
    "* n-plet:\n",
    "* spatial relationship:\n",
    "\n",
    "\n",
    "Edges:\n",
    "* locatum:\n",
    "* relatum:\n",
    "* map:\n",
    "* referred by:\n",
    "* has reference direction:\n",
    "\n",
    "<b>Reference</b>: Chen H, Vasardani M, Winter S, Tomko M. A graph database model for knowledge extracted from place descriptions. ISPRS International Journal of Geo-Information. 2018 Jun;7(6):221.\n"
   ]
  },
  {
   "cell_type": "code",
   "execution_count": null,
   "metadata": {
    "pycharm": {
     "name": "#%%\n"
    }
   },
   "outputs": [],
   "source": [
    "place_graph = vg.generate_place_graph(isovist_object)"
   ]
  },
  {
   "cell_type": "markdown",
   "metadata": {
    "pycharm": {
     "name": "#%% md\n"
    }
   },
   "source": [
    "### Visualize a part of place graph (center: landmark 2, radius=2)"
   ]
  },
  {
   "cell_type": "code",
   "execution_count": null,
   "metadata": {
    "pycharm": {
     "name": "#%%\n"
    }
   },
   "outputs": [],
   "source": [
    "pg_l2_2 = Utility.create_subgraph(place_graph, 'landmark 2', 2)\n",
    "\n",
    "nt2 = Network(width='1000px', height='600px', directed=True, notebook=True)\n",
    "nt2.from_nx(pg_l2_2, show_edge_weights=False)\n",
    "nt2.options.physics.use_repulsion({'node_distance': 185, 'central_gravity': 0.2, 'spring_length': 200,\n",
    "                                    'spring_strength': 0.05, 'damping': 0.09})\n",
    "\n",
    "nt2.show('placegraph_l2_2.html')"
   ]
  },
  {
   "cell_type": "code",
   "execution_count": null,
   "metadata": {
    "pycharm": {
     "name": "#%%\n"
    }
   },
   "outputs": [],
   "source": [
    "plotter = Plotter()\n",
    "plotter.add_poly(isovist_object.space_x, isovist_object.space_y)\n",
    "plotter.add_holes(isovist_object.holes_x, isovist_object.holes_y)\n",
    "ls = []\n",
    "gs = []\n",
    "for n in list(pg_l2_2.nodes):\n",
    "    if 'landmark ' in n:\n",
    "        lid = int(n.replace('landmark ', ''))\n",
    "        ls.append(isovist_object.landmarks_points[lid])\n",
    "    elif 'gateway ' in n:\n",
    "        gid = int(n.replace('gateway ', ''))\n",
    "        gs.append(isovist_object.door_points[gid])\n",
    "plotter.add_points(ls, label='graph (landmarks)', color='ko')\n",
    "plotter.add_points(gs, label='graph (gateways)', color='mo')\n",
    "plotter.show()"
   ]
  },
  {
   "cell_type": "markdown",
   "metadata": {},
   "source": [
    "### Visualize a part of place graph (center: gateway 7, radius=2)"
   ]
  },
  {
   "cell_type": "code",
   "execution_count": null,
   "metadata": {
    "pycharm": {
     "name": "#%%\n"
    },
    "scrolled": true
   },
   "outputs": [],
   "source": [
    "pg_g7_2 = Utility.create_subgraph(place_graph, 'gateway 7', 2)\n",
    "\n",
    "nt2 = Network(width='1000px', height='600px', directed=True, notebook=True)\n",
    "nt2.from_nx(pg_g7_2, show_edge_weights=False)\n",
    "nt2.options.physics.use_repulsion({'node_distance': 185, 'central_gravity': 0.2, 'spring_length': 200,\n",
    "                                    'spring_strength': 0.05, 'damping': 0.09})\n",
    "\n",
    "nt2.show('placegraph_g7_2.html')"
   ]
  },
  {
   "cell_type": "code",
   "execution_count": null,
   "metadata": {
    "pycharm": {
     "name": "#%%\n"
    }
   },
   "outputs": [],
   "source": [
    "plotter = Plotter()\n",
    "plotter.add_poly(isovist_object.space_x, isovist_object.space_y)\n",
    "plotter.add_holes(isovist_object.holes_x, isovist_object.holes_y)\n",
    "ls = []\n",
    "gs = []\n",
    "for n in list(pg_g7_2.nodes):\n",
    "    if 'landmark ' in n:\n",
    "        lid = int(n.replace('landmark ', ''))\n",
    "        ls.append(isovist_object.landmarks_points[lid])\n",
    "    elif 'gateway ' in n:\n",
    "        gid = int(n.replace('gateway ', ''))\n",
    "        gs.append(isovist_object.door_points[gid])\n",
    "plotter.add_points(ls, label='graph (landmarks)', color='ko')\n",
    "plotter.add_points(gs, label='graph (gateways)', color='mo')\n",
    "plotter.show()"
   ]
  }
 ],
 "metadata": {
  "kernelspec": {
   "display_name": "Python [conda env:other] *",
   "language": "python",
   "name": "conda-env-other-py"
  },
  "language_info": {
   "codemirror_mode": {
    "name": "ipython",
    "version": 3
   },
   "file_extension": ".py",
   "mimetype": "text/x-python",
   "name": "python",
   "nbconvert_exporter": "python",
   "pygments_lexer": "ipython3",
   "version": "3.9.7"
  }
 },
 "nbformat": 4,
 "nbformat_minor": 1
}
